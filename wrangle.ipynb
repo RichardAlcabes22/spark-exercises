{
 "cells": [
  {
   "cell_type": "code",
   "execution_count": 1,
   "id": "e5aee8f7",
   "metadata": {},
   "outputs": [],
   "source": [
    "import pandas as pd\n",
    "from pyspark.sql import SparkSession\n",
    "from pyspark.sql.functions import *\n",
    "import pyspark.sql.functions as F\n",
    "from env import user, pwd, host\n",
    "import os\n",
    "from pyspark.sql.functions import month, year, quarter"
   ]
  },
  {
   "cell_type": "code",
   "execution_count": 2,
   "id": "e67282d0",
   "metadata": {},
   "outputs": [],
   "source": [
    "pandas_df = pd.read_csv('311.csv')"
   ]
  },
  {
   "cell_type": "code",
   "execution_count": 3,
   "id": "84ba264f",
   "metadata": {},
   "outputs": [
    {
     "name": "stderr",
     "output_type": "stream",
     "text": [
      "Setting default log level to \"WARN\".\n",
      "To adjust logging level use sc.setLogLevel(newLevel). For SparkR, use setLogLevel(newLevel).\n",
      "23/05/22 10:16:05 WARN NativeCodeLoader: Unable to load native-hadoop library for your platform... using builtin-java classes where applicable\n"
     ]
    }
   ],
   "source": [
    "spark = SparkSession.builder.getOrCreate()"
   ]
  },
  {
   "cell_type": "code",
   "execution_count": 4,
   "id": "08ae7b91",
   "metadata": {},
   "outputs": [],
   "source": [
    "df = spark.createDataFrame(pandas_df)"
   ]
  },
  {
   "cell_type": "code",
   "execution_count": 5,
   "id": "34c5502e",
   "metadata": {},
   "outputs": [
    {
     "name": "stderr",
     "output_type": "stream",
     "text": [
      "23/05/22 10:16:14 WARN TaskSetManager: Stage 0 contains a task of very large size (1346 KiB). The maximum recommended task size is 1000 KiB.\n",
      "[Stage 0:>                                                          (0 + 1) / 1]\r"
     ]
    },
    {
     "name": "stdout",
     "output_type": "stream",
     "text": [
      "+----------+----------------+----------------+------------+---------+-------------+-----------+----------------+--------------------+-----------+-----------+---------+--------------------+----------------+\n",
      "|   case_id|case_opened_date|case_closed_date|SLA_due_date|case_late|num_days_late|case_closed|   dept_division|service_request_type|   SLA_days|case_status|source_id|     request_address|council_district|\n",
      "+----------+----------------+----------------+------------+---------+-------------+-----------+----------------+--------------------+-----------+-----------+---------+--------------------+----------------+\n",
      "|1014127332|     1/1/18 0:42|    1/1/18 12:29|9/26/20 0:42|       NO| -998.5087616|        YES|Field Operations|        Stray Animal|      999.0|     Closed| svcCRMLS|2315  EL PASO ST,...|               5|\n",
      "|1014127333|     1/1/18 0:46|     1/3/18 8:11| 1/5/18 8:30|       NO| -2.012604167|        YES|     Storm Water|Removal Of Obstru...|4.322222222|     Closed| svcCRMSS|2215  GOLIAD RD, ...|               3|\n",
      "|1014127334|     1/1/18 0:48|     1/2/18 7:57| 1/5/18 8:30|       NO| -3.022337963|        YES|     Storm Water|Removal Of Obstru...|4.320729167|     Closed| svcCRMSS|102  PALFREY ST W...|               3|\n",
      "|1014127335|     1/1/18 1:29|     1/2/18 8:13|1/17/18 8:30|       NO| -15.01148148|        YES|Code Enforcement|Front Or Side Yar...|16.29188657|     Closed| svcCRMSS|114  LA GARDE ST,...|               3|\n",
      "|1014127336|     1/1/18 1:34|    1/1/18 13:29| 1/1/18 4:34|      YES|  0.372164352|        YES|Field Operations|Animal Cruelty(Cr...|      0.125|     Closed| svcCRMSS|734  CLEARVIEW DR...|               7|\n",
      "+----------+----------------+----------------+------------+---------+-------------+-----------+----------------+--------------------+-----------+-----------+---------+--------------------+----------------+\n",
      "only showing top 5 rows\n",
      "\n"
     ]
    },
    {
     "name": "stderr",
     "output_type": "stream",
     "text": [
      "\r",
      "                                                                                \r"
     ]
    }
   ],
   "source": [
    "df.show(5)"
   ]
  },
  {
   "cell_type": "code",
   "execution_count": 6,
   "id": "d3c16bbc",
   "metadata": {},
   "outputs": [],
   "source": [
    "pandas_df2 = pd.read_csv('dept.csv')"
   ]
  },
  {
   "cell_type": "code",
   "execution_count": 7,
   "id": "a352f8b6",
   "metadata": {},
   "outputs": [],
   "source": [
    "df2 = spark.createDataFrame(pandas_df2)"
   ]
  },
  {
   "cell_type": "code",
   "execution_count": 8,
   "id": "981ee6cd",
   "metadata": {},
   "outputs": [
    {
     "name": "stdout",
     "output_type": "stream",
     "text": [
      "+--------------------+--------------------+----------------------+-------------------+\n",
      "|       dept_division|           dept_name|standardized_dept_name|dept_subject_to_SLA|\n",
      "+--------------------+--------------------+----------------------+-------------------+\n",
      "|     311 Call Center|    Customer Service|      Customer Service|                YES|\n",
      "|               Brush|Solid Waste Manag...|           Solid Waste|                YES|\n",
      "|     Clean and Green|Parks and Recreation|    Parks & Recreation|                YES|\n",
      "|Clean and Green N...|Parks and Recreation|    Parks & Recreation|                YES|\n",
      "|    Code Enforcement|Code Enforcement ...|  DSD/Code Enforcement|                YES|\n",
      "+--------------------+--------------------+----------------------+-------------------+\n",
      "only showing top 5 rows\n",
      "\n"
     ]
    }
   ],
   "source": [
    "df2.show(5)"
   ]
  },
  {
   "cell_type": "code",
   "execution_count": 9,
   "id": "bf734523",
   "metadata": {},
   "outputs": [
    {
     "name": "stderr",
     "output_type": "stream",
     "text": [
      "23/05/22 10:16:16 WARN TaskSetManager: Stage 3 contains a task of very large size (1346 KiB). The maximum recommended task size is 1000 KiB.\n",
      "                                                                                \r"
     ]
    }
   ],
   "source": [
    "df.write.json('data/source1_json',mode='overwrite')"
   ]
  },
  {
   "cell_type": "code",
   "execution_count": 10,
   "id": "3b008c24",
   "metadata": {},
   "outputs": [
    {
     "name": "stderr",
     "output_type": "stream",
     "text": [
      "23/05/22 10:16:19 WARN TaskSetManager: Stage 4 contains a task of very large size (1346 KiB). The maximum recommended task size is 1000 KiB.\n",
      "                                                                                \r"
     ]
    }
   ],
   "source": [
    "(\n",
    "df.write.format('csv')\n",
    "    .mode('overwrite')\n",
    "    .option('header',True)\n",
    "    .save('data/source1_csv')\n",
    "\n",
    ")"
   ]
  },
  {
   "cell_type": "code",
   "execution_count": 11,
   "id": "1580f1e2",
   "metadata": {},
   "outputs": [
    {
     "name": "stdout",
     "output_type": "stream",
     "text": [
      "root\n",
      " |-- case_id: long (nullable = true)\n",
      " |-- case_opened_date: string (nullable = true)\n",
      " |-- case_closed_date: string (nullable = true)\n",
      " |-- SLA_due_date: string (nullable = true)\n",
      " |-- case_late: string (nullable = true)\n",
      " |-- num_days_late: double (nullable = true)\n",
      " |-- case_closed: string (nullable = true)\n",
      " |-- dept_division: string (nullable = true)\n",
      " |-- service_request_type: string (nullable = true)\n",
      " |-- SLA_days: double (nullable = true)\n",
      " |-- case_status: string (nullable = true)\n",
      " |-- source_id: string (nullable = true)\n",
      " |-- request_address: string (nullable = true)\n",
      " |-- council_district: long (nullable = true)\n",
      "\n"
     ]
    }
   ],
   "source": [
    "df.printSchema()"
   ]
  },
  {
   "cell_type": "code",
   "execution_count": 12,
   "id": "c13dca80",
   "metadata": {},
   "outputs": [],
   "source": [
    "df = df.withColumnRenamed('SLA_due_date','case_due_date')"
   ]
  },
  {
   "cell_type": "code",
   "execution_count": 13,
   "id": "a10ae74e",
   "metadata": {},
   "outputs": [],
   "source": [
    "df = df.withColumn(\"case_closed\", expr('case_closed == \"YES\"')).withColumn(\n",
    "    \"case_late\", expr('case_late == \"YES\"')\n",
    ")"
   ]
  },
  {
   "cell_type": "code",
   "execution_count": 14,
   "id": "7729f943",
   "metadata": {},
   "outputs": [
    {
     "name": "stdout",
     "output_type": "stream",
     "text": [
      "+-----------+---------+\n",
      "|case_closed|case_late|\n",
      "+-----------+---------+\n",
      "|       true|    false|\n",
      "|       true|    false|\n",
      "|       true|    false|\n",
      "|       true|    false|\n",
      "|       true|     true|\n",
      "+-----------+---------+\n",
      "only showing top 5 rows\n",
      "\n"
     ]
    },
    {
     "name": "stderr",
     "output_type": "stream",
     "text": [
      "23/05/22 10:16:20 WARN TaskSetManager: Stage 5 contains a task of very large size (1346 KiB). The maximum recommended task size is 1000 KiB.\n"
     ]
    }
   ],
   "source": [
    "df.select('case_closed','case_late').show(5)"
   ]
  },
  {
   "cell_type": "code",
   "execution_count": 15,
   "id": "28831b73",
   "metadata": {},
   "outputs": [],
   "source": [
    "df = df.withColumn(\"council_district\", col(\"council_district\").cast(\"string\"))"
   ]
  },
  {
   "cell_type": "code",
   "execution_count": 16,
   "id": "026f467a",
   "metadata": {},
   "outputs": [
    {
     "name": "stdout",
     "output_type": "stream",
     "text": [
      "root\n",
      " |-- case_id: long (nullable = true)\n",
      " |-- case_opened_date: string (nullable = true)\n",
      " |-- case_closed_date: string (nullable = true)\n",
      " |-- case_due_date: string (nullable = true)\n",
      " |-- case_late: boolean (nullable = true)\n",
      " |-- num_days_late: double (nullable = true)\n",
      " |-- case_closed: boolean (nullable = true)\n",
      " |-- dept_division: string (nullable = true)\n",
      " |-- service_request_type: string (nullable = true)\n",
      " |-- SLA_days: double (nullable = true)\n",
      " |-- case_status: string (nullable = true)\n",
      " |-- source_id: string (nullable = true)\n",
      " |-- request_address: string (nullable = true)\n",
      " |-- council_district: string (nullable = true)\n",
      "\n"
     ]
    }
   ],
   "source": [
    "df.printSchema()"
   ]
  },
  {
   "cell_type": "code",
   "execution_count": 17,
   "id": "54a7b042",
   "metadata": {},
   "outputs": [],
   "source": [
    "fmt = \"M/d/yy H:mm\"\n",
    "df = (\n",
    "    df.withColumn(\"case_opened_date\", to_timestamp(\"case_opened_date\", fmt))\n",
    "    .withColumn(\"case_closed_date\", to_timestamp(\"case_opened_date\", fmt))\n",
    "    .withColumn(\"case_due_date\", to_timestamp(\"case_opened_date\", fmt))\n",
    ")"
   ]
  },
  {
   "cell_type": "code",
   "execution_count": 18,
   "id": "4f7cb8c5",
   "metadata": {},
   "outputs": [
    {
     "name": "stdout",
     "output_type": "stream",
     "text": [
      "root\n",
      " |-- case_id: long (nullable = true)\n",
      " |-- case_opened_date: timestamp (nullable = true)\n",
      " |-- case_closed_date: timestamp (nullable = true)\n",
      " |-- case_due_date: timestamp (nullable = true)\n",
      " |-- case_late: boolean (nullable = true)\n",
      " |-- num_days_late: double (nullable = true)\n",
      " |-- case_closed: boolean (nullable = true)\n",
      " |-- dept_division: string (nullable = true)\n",
      " |-- service_request_type: string (nullable = true)\n",
      " |-- SLA_days: double (nullable = true)\n",
      " |-- case_status: string (nullable = true)\n",
      " |-- source_id: string (nullable = true)\n",
      " |-- request_address: string (nullable = true)\n",
      " |-- council_district: string (nullable = true)\n",
      "\n"
     ]
    }
   ],
   "source": [
    "df.printSchema()"
   ]
  },
  {
   "cell_type": "code",
   "execution_count": 19,
   "id": "8fc0dfe1",
   "metadata": {},
   "outputs": [],
   "source": [
    "df = df.withColumn(\"request_address\", trim(lower(df.request_address)))"
   ]
  },
  {
   "cell_type": "code",
   "execution_count": 51,
   "id": "1d1e3f63",
   "metadata": {},
   "outputs": [],
   "source": [
    "df = df.withColumn(\n",
    "    \"num_weeks_late\", F.round(expr(\"num_days_late / 7 AS num_weeks_late\"),1)\n",
    ")"
   ]
  },
  {
   "cell_type": "code",
   "execution_count": 21,
   "id": "178e11d6",
   "metadata": {},
   "outputs": [
    {
     "name": "stdout",
     "output_type": "stream",
     "text": [
      "root\n",
      " |-- case_id: long (nullable = true)\n",
      " |-- case_opened_date: timestamp (nullable = true)\n",
      " |-- case_closed_date: timestamp (nullable = true)\n",
      " |-- case_due_date: timestamp (nullable = true)\n",
      " |-- case_late: boolean (nullable = true)\n",
      " |-- num_days_late: double (nullable = true)\n",
      " |-- case_closed: boolean (nullable = true)\n",
      " |-- dept_division: string (nullable = true)\n",
      " |-- service_request_type: string (nullable = true)\n",
      " |-- SLA_days: double (nullable = true)\n",
      " |-- case_status: string (nullable = true)\n",
      " |-- source_id: string (nullable = true)\n",
      " |-- request_address: string (nullable = true)\n",
      " |-- council_district: string (nullable = true)\n",
      " |-- num_weeks_late: double (nullable = true)\n",
      "\n"
     ]
    }
   ],
   "source": [
    "df.printSchema()"
   ]
  },
  {
   "cell_type": "code",
   "execution_count": 22,
   "id": "501dcf75",
   "metadata": {},
   "outputs": [],
   "source": [
    "df = df.withColumn(\"council_district\", col(\"council_district\").cast(\"int\"))"
   ]
  },
  {
   "cell_type": "code",
   "execution_count": 23,
   "id": "0ae6ebdf",
   "metadata": {},
   "outputs": [
    {
     "name": "stdout",
     "output_type": "stream",
     "text": [
      "root\n",
      " |-- case_id: long (nullable = true)\n",
      " |-- case_opened_date: timestamp (nullable = true)\n",
      " |-- case_closed_date: timestamp (nullable = true)\n",
      " |-- case_due_date: timestamp (nullable = true)\n",
      " |-- case_late: boolean (nullable = true)\n",
      " |-- num_days_late: double (nullable = true)\n",
      " |-- case_closed: boolean (nullable = true)\n",
      " |-- dept_division: string (nullable = true)\n",
      " |-- service_request_type: string (nullable = true)\n",
      " |-- SLA_days: double (nullable = true)\n",
      " |-- case_status: string (nullable = true)\n",
      " |-- source_id: string (nullable = true)\n",
      " |-- request_address: string (nullable = true)\n",
      " |-- council_district: integer (nullable = true)\n",
      " |-- num_weeks_late: double (nullable = true)\n",
      "\n"
     ]
    }
   ],
   "source": [
    "df.printSchema()"
   ]
  },
  {
   "cell_type": "code",
   "execution_count": 24,
   "id": "3058841f",
   "metadata": {},
   "outputs": [],
   "source": [
    "df = df.withColumn(\n",
    "    \"council_district\",\n",
    "    format_string(\"%03d\", col(\"council_district\").cast(\"int\")),\n",
    ")"
   ]
  },
  {
   "cell_type": "code",
   "execution_count": 25,
   "id": "08c984fc",
   "metadata": {},
   "outputs": [
    {
     "name": "stdout",
     "output_type": "stream",
     "text": [
      "root\n",
      " |-- case_id: long (nullable = true)\n",
      " |-- case_opened_date: timestamp (nullable = true)\n",
      " |-- case_closed_date: timestamp (nullable = true)\n",
      " |-- case_due_date: timestamp (nullable = true)\n",
      " |-- case_late: boolean (nullable = true)\n",
      " |-- num_days_late: double (nullable = true)\n",
      " |-- case_closed: boolean (nullable = true)\n",
      " |-- dept_division: string (nullable = true)\n",
      " |-- service_request_type: string (nullable = true)\n",
      " |-- SLA_days: double (nullable = true)\n",
      " |-- case_status: string (nullable = true)\n",
      " |-- source_id: string (nullable = true)\n",
      " |-- request_address: string (nullable = true)\n",
      " |-- council_district: string (nullable = false)\n",
      " |-- num_weeks_late: double (nullable = true)\n",
      "\n"
     ]
    }
   ],
   "source": [
    "df.printSchema()"
   ]
  },
  {
   "cell_type": "code",
   "execution_count": 26,
   "id": "0e379299",
   "metadata": {},
   "outputs": [],
   "source": [
    "df = df.withColumn(\"zipcode\", regexp_extract(\"request_address\", r\"\\d+$\", 0))"
   ]
  },
  {
   "cell_type": "code",
   "execution_count": 27,
   "id": "69190023",
   "metadata": {},
   "outputs": [
    {
     "name": "stdout",
     "output_type": "stream",
     "text": [
      "root\n",
      " |-- case_id: long (nullable = true)\n",
      " |-- case_opened_date: timestamp (nullable = true)\n",
      " |-- case_closed_date: timestamp (nullable = true)\n",
      " |-- case_due_date: timestamp (nullable = true)\n",
      " |-- case_late: boolean (nullable = true)\n",
      " |-- num_days_late: double (nullable = true)\n",
      " |-- case_closed: boolean (nullable = true)\n",
      " |-- dept_division: string (nullable = true)\n",
      " |-- service_request_type: string (nullable = true)\n",
      " |-- SLA_days: double (nullable = true)\n",
      " |-- case_status: string (nullable = true)\n",
      " |-- source_id: string (nullable = true)\n",
      " |-- request_address: string (nullable = true)\n",
      " |-- council_district: string (nullable = false)\n",
      " |-- num_weeks_late: double (nullable = true)\n",
      " |-- zipcode: string (nullable = true)\n",
      "\n"
     ]
    }
   ],
   "source": [
    "df.printSchema()"
   ]
  },
  {
   "cell_type": "code",
   "execution_count": 28,
   "id": "2e1288dc",
   "metadata": {},
   "outputs": [],
   "source": [
    "df = (\n",
    "    df.withColumn(\n",
    "        \"case_age\", datediff(current_timestamp(), \"case_opened_date\")\n",
    "    )\n",
    "    .withColumn(\n",
    "        \"days_to_closed\", datediff(\"case_closed_date\", \"case_opened_date\")\n",
    "    )\n",
    "    .withColumn(\n",
    "        \"case_lifetime\",\n",
    "        when(expr(\"! case_closed\"), col(\"case_age\")).otherwise(\n",
    "            col(\"days_to_closed\")\n",
    "        ),\n",
    "    )\n",
    ")"
   ]
  },
  {
   "cell_type": "code",
   "execution_count": 29,
   "id": "5d5fdc8d",
   "metadata": {},
   "outputs": [
    {
     "name": "stderr",
     "output_type": "stream",
     "text": [
      "23/05/22 10:16:21 WARN TaskSetManager: Stage 6 contains a task of very large size (1346 KiB). The maximum recommended task size is 1000 KiB.\n"
     ]
    },
    {
     "name": "stdout",
     "output_type": "stream",
     "text": [
      "+-----------+-------------------+-------------------+--------+--------------+-------------+\n",
      "|case_closed|   case_opened_date|   case_closed_date|case_age|days_to_closed|case_lifetime|\n",
      "+-----------+-------------------+-------------------+--------+--------------+-------------+\n",
      "|       true|2018-01-01 00:42:00|2018-01-01 00:42:00|    1967|             0|            0|\n",
      "|       true|2018-01-01 00:46:00|2018-01-01 00:46:00|    1967|             0|            0|\n",
      "|       true|2018-01-01 00:48:00|2018-01-01 00:48:00|    1967|             0|            0|\n",
      "|       true|2018-01-01 01:29:00|2018-01-01 01:29:00|    1967|             0|            0|\n",
      "|       true|2018-01-01 01:34:00|2018-01-01 01:34:00|    1967|             0|            0|\n",
      "+-----------+-------------------+-------------------+--------+--------------+-------------+\n",
      "only showing top 5 rows\n",
      "\n"
     ]
    }
   ],
   "source": [
    "df.select(\n",
    "    \"case_closed\",\n",
    "    \"case_opened_date\",\n",
    "    \"case_closed_date\",\n",
    "    \"case_age\",\n",
    "    \"days_to_closed\",\n",
    "    \"case_lifetime\",\n",
    ").where(expr(\"case_closed\")).show(5)"
   ]
  },
  {
   "cell_type": "code",
   "execution_count": 30,
   "id": "6ba03734",
   "metadata": {},
   "outputs": [
    {
     "name": "stdout",
     "output_type": "stream",
     "text": [
      "+-----------+-------------------+-------------------+--------+--------------+-------------+\n",
      "|case_closed|   case_opened_date|   case_closed_date|case_age|days_to_closed|case_lifetime|\n",
      "+-----------+-------------------+-------------------+--------+--------------+-------------+\n",
      "|      false|2018-01-02 09:39:00|2018-01-02 09:39:00|    1966|             0|         1966|\n",
      "|      false|2018-01-02 10:49:00|2018-01-02 10:49:00|    1966|             0|         1966|\n",
      "|      false|2018-01-02 13:45:00|2018-01-02 13:45:00|    1966|             0|         1966|\n",
      "|      false|2018-01-02 14:09:00|2018-01-02 14:09:00|    1966|             0|         1966|\n",
      "|      false|2018-01-02 14:34:00|2018-01-02 14:34:00|    1966|             0|         1966|\n",
      "+-----------+-------------------+-------------------+--------+--------------+-------------+\n",
      "only showing top 5 rows\n",
      "\n"
     ]
    },
    {
     "name": "stderr",
     "output_type": "stream",
     "text": [
      "23/05/22 10:16:21 WARN TaskSetManager: Stage 7 contains a task of very large size (1346 KiB). The maximum recommended task size is 1000 KiB.\n"
     ]
    }
   ],
   "source": [
    "df.select(\n",
    "    \"case_closed\",\n",
    "    \"case_opened_date\",\n",
    "    \"case_closed_date\",\n",
    "    \"case_age\",\n",
    "    \"days_to_closed\",\n",
    "    \"case_lifetime\",\n",
    ").where(expr(\"! case_closed\")).show(5)"
   ]
  },
  {
   "cell_type": "markdown",
   "id": "551da3c3",
   "metadata": {},
   "source": [
    "## 1 how old is currently open issue"
   ]
  },
  {
   "cell_type": "code",
   "execution_count": 31,
   "id": "b3a41394",
   "metadata": {},
   "outputs": [
    {
     "name": "stderr",
     "output_type": "stream",
     "text": [
      "23/05/22 10:16:22 WARN TaskSetManager: Stage 8 contains a task of very large size (1346 KiB). The maximum recommended task size is 1000 KiB.\n"
     ]
    },
    {
     "name": "stdout",
     "output_type": "stream",
     "text": [
      "+-----------+-------------------+-------------------+--------+--------------+-------------+\n",
      "|case_closed|   case_opened_date|   case_closed_date|case_age|days_to_closed|case_lifetime|\n",
      "+-----------+-------------------+-------------------+--------+--------------+-------------+\n",
      "|      false|2018-01-02 09:39:00|2018-01-02 09:39:00|    1966|             0|         1966|\n",
      "|      false|2018-01-02 10:49:00|2018-01-02 10:49:00|    1966|             0|         1966|\n",
      "|      false|2018-01-02 13:45:00|2018-01-02 13:45:00|    1966|             0|         1966|\n",
      "|      false|2018-01-02 14:09:00|2018-01-02 14:09:00|    1966|             0|         1966|\n",
      "|      false|2018-01-02 14:34:00|2018-01-02 14:34:00|    1966|             0|         1966|\n",
      "+-----------+-------------------+-------------------+--------+--------------+-------------+\n",
      "only showing top 5 rows\n",
      "\n"
     ]
    }
   ],
   "source": [
    "df.select(\n",
    "    \"case_closed\",\n",
    "    \"case_opened_date\",\n",
    "    \"case_closed_date\",\n",
    "    \"case_age\",\n",
    "    \"days_to_closed\",\n",
    "    \"case_lifetime\",\n",
    ").where(expr(\"! case_closed\")).sort(df.case_age.desc()).show(5)"
   ]
  },
  {
   "cell_type": "markdown",
   "id": "94c8a183",
   "metadata": {},
   "source": [
    "## 2 how many Stray Animal cases"
   ]
  },
  {
   "cell_type": "code",
   "execution_count": 32,
   "id": "da55bf60",
   "metadata": {},
   "outputs": [
    {
     "name": "stderr",
     "output_type": "stream",
     "text": [
      "23/05/22 10:16:23 WARN TaskSetManager: Stage 9 contains a task of very large size (1346 KiB). The maximum recommended task size is 1000 KiB.\n",
      "[Stage 9:>                                                          (0 + 8) / 8]\r"
     ]
    },
    {
     "name": "stdout",
     "output_type": "stream",
     "text": [
      "+--------------------+---------------------------+\n",
      "|service_request_type|count(service_request_type)|\n",
      "+--------------------+---------------------------+\n",
      "|Minimum Housing-O...|                        897|\n",
      "|        Tree Removal|                         15|\n",
      "| Service Information|                         13|\n",
      "|    Sign Maintenance|                          7|\n",
      "|Vacant Lot-Privat...|                        687|\n",
      "|Graffiti: Private...|                       1065|\n",
      "|Traffic Sign Graf...|                        397|\n",
      "|License Renewal I...|                        128|\n",
      "|   Sewer Line Broken|                        170|\n",
      "|Zoning: Multi-Fam...|                         86|\n",
      "|Engineering Inves...|                         53|\n",
      "|    Zoning: Setbacks|                         85|\n",
      "|  Traffic Sign Faded|                        291|\n",
      "|     Permits, Fences|                        138|\n",
      "|Certificates of O...|                        507|\n",
      "|  Dead Animal - Misc|                       1396|\n",
      "|Garage Sales No P...|                        158|\n",
      "|   Water No Services|                         91|\n",
      "|Major Park Improv...|                         52|\n",
      "|General Building ...|                         43|\n",
      "+--------------------+---------------------------+\n",
      "only showing top 20 rows\n",
      "\n"
     ]
    },
    {
     "name": "stderr",
     "output_type": "stream",
     "text": [
      "\r",
      "                                                                                \r"
     ]
    }
   ],
   "source": [
    "df.groupby(df.service_request_type).agg(F.count(df.service_request_type)).show()"
   ]
  },
  {
   "cell_type": "code",
   "execution_count": 33,
   "id": "988fdebc",
   "metadata": {},
   "outputs": [
    {
     "name": "stderr",
     "output_type": "stream",
     "text": [
      "23/05/22 10:16:25 WARN TaskSetManager: Stage 12 contains a task of very large size (1346 KiB). The maximum recommended task size is 1000 KiB.\n"
     ]
    },
    {
     "name": "stdout",
     "output_type": "stream",
     "text": [
      "+--------------------+---------------------------+\n",
      "|service_request_type|count(service_request_type)|\n",
      "+--------------------+---------------------------+\n",
      "|        Stray Animal|                       3497|\n",
      "+--------------------+---------------------------+\n",
      "\n"
     ]
    }
   ],
   "source": [
    "df.groupby(df.service_request_type).agg(F.count(df.service_request_type)).where(\n",
    "    F.col('service_request_type') == 'Stray Animal').show()"
   ]
  },
  {
   "cell_type": "markdown",
   "id": "e15a971e",
   "metadata": {},
   "source": [
    "## 3 how many Field Ops cases not classified as Officer Standby"
   ]
  },
  {
   "cell_type": "code",
   "execution_count": 34,
   "id": "b9dd5467",
   "metadata": {},
   "outputs": [
    {
     "name": "stderr",
     "output_type": "stream",
     "text": [
      "23/05/22 10:16:26 WARN TaskSetManager: Stage 15 contains a task of very large size (1346 KiB). The maximum recommended task size is 1000 KiB.\n"
     ]
    },
    {
     "name": "stdout",
     "output_type": "stream",
     "text": [
      "+----------------+--------------------+--------------------+\n",
      "|   dept_division|service_request_type|count(dept_division)|\n",
      "+----------------+--------------------+--------------------+\n",
      "|Field Operations|Aggressive Animal...|                3541|\n",
      "|Field Operations|City Council Anim...|                  46|\n",
      "|Field Operations|Animal Cruelty(Cr...|                 479|\n",
      "|Field Operations|Public Nuisance(O...|                1531|\n",
      "|Field Operations|        Stray Animal|                3497|\n",
      "|Field Operations|Aggressive Animal...|                 746|\n",
      "|Field Operations|Injured Animal(Cr...|                1021|\n",
      "|Field Operations|     Officer Standby|                 384|\n",
      "|Field Operations|Animal Bite(Criti...|                  82|\n",
      "|Field Operations|Trapped/Confined ...|                1299|\n",
      "|Field Operations|Animal Bite(Non-C...|                 544|\n",
      "|Field Operations|      Animal Neglect|                1928|\n",
      "|Field Operations|Animal Permits Re...|                 380|\n",
      "+----------------+--------------------+--------------------+\n",
      "\n"
     ]
    }
   ],
   "source": [
    "df.groupby(df.dept_division,df.service_request_type).agg(F.count(df.dept_division)).where(\n",
    "    F.col('dept_division') == 'Field Operations').show()"
   ]
  },
  {
   "cell_type": "markdown",
   "id": "6ee4f596",
   "metadata": {},
   "source": [
    "## 4 council_district converted to string"
   ]
  },
  {
   "cell_type": "code",
   "execution_count": 35,
   "id": "71728508",
   "metadata": {},
   "outputs": [],
   "source": [
    "# df = df.withColumn(\"council_district\", col(\"council_district\").cast(\"string\"))"
   ]
  },
  {
   "cell_type": "markdown",
   "id": "2cae9487",
   "metadata": {},
   "source": [
    "## 5 extract year from case_closed_date"
   ]
  },
  {
   "cell_type": "code",
   "execution_count": 41,
   "id": "6d64d2ed",
   "metadata": {
    "scrolled": true
   },
   "outputs": [
    {
     "name": "stderr",
     "output_type": "stream",
     "text": [
      "23/05/22 10:26:10 WARN TaskSetManager: Stage 23 contains a task of very large size (1346 KiB). The maximum recommended task size is 1000 KiB.\n",
      "[Stage 23:>                                                         (0 + 8) / 8]\r"
     ]
    },
    {
     "name": "stdout",
     "output_type": "stream",
     "text": [
      "+-----------+-----------------------+\n",
      "|year_closed|count(case_closed_date)|\n",
      "+-----------+-----------------------+\n",
      "|       2018|                 100000|\n",
      "+-----------+-----------------------+\n",
      "\n"
     ]
    },
    {
     "name": "stderr",
     "output_type": "stream",
     "text": [
      "\r",
      "                                                                                \r"
     ]
    }
   ],
   "source": [
    "df.withColumn('year_closed', F.year(F.col('case_closed_date'))).groupby(\n",
    "    'year_closed').agg(F.count(df.case_closed_date)).show()"
   ]
  },
  {
   "cell_type": "code",
   "execution_count": 42,
   "id": "271c66aa",
   "metadata": {},
   "outputs": [
    {
     "name": "stdout",
     "output_type": "stream",
     "text": [
      "root\n",
      " |-- case_id: long (nullable = true)\n",
      " |-- case_opened_date: timestamp (nullable = true)\n",
      " |-- case_closed_date: timestamp (nullable = true)\n",
      " |-- case_due_date: timestamp (nullable = true)\n",
      " |-- case_late: boolean (nullable = true)\n",
      " |-- num_days_late: double (nullable = true)\n",
      " |-- case_closed: boolean (nullable = true)\n",
      " |-- dept_division: string (nullable = true)\n",
      " |-- service_request_type: string (nullable = true)\n",
      " |-- SLA_days: double (nullable = true)\n",
      " |-- case_status: string (nullable = true)\n",
      " |-- source_id: string (nullable = true)\n",
      " |-- request_address: string (nullable = true)\n",
      " |-- council_district: string (nullable = false)\n",
      " |-- num_weeks_late: double (nullable = true)\n",
      " |-- zipcode: string (nullable = true)\n",
      " |-- case_age: integer (nullable = true)\n",
      " |-- days_to_closed: integer (nullable = true)\n",
      " |-- case_lifetime: integer (nullable = true)\n",
      "\n"
     ]
    }
   ],
   "source": [
    "df.printSchema()"
   ]
  },
  {
   "cell_type": "markdown",
   "id": "9e462c00",
   "metadata": {},
   "source": [
    "## 6 convert num_days_late from days to hours: num_hours_late"
   ]
  },
  {
   "cell_type": "code",
   "execution_count": 48,
   "id": "aa3e2b58",
   "metadata": {},
   "outputs": [],
   "source": [
    "df = df.withColumn(\n",
    "    \"num_hours_late\", F.round(expr(\"num_days_late * 24 AS num_hours_late\"),1)\n",
    ")"
   ]
  },
  {
   "cell_type": "code",
   "execution_count": 49,
   "id": "3dc4407a",
   "metadata": {},
   "outputs": [
    {
     "name": "stdout",
     "output_type": "stream",
     "text": [
      "root\n",
      " |-- case_id: long (nullable = true)\n",
      " |-- case_opened_date: timestamp (nullable = true)\n",
      " |-- case_closed_date: timestamp (nullable = true)\n",
      " |-- case_due_date: timestamp (nullable = true)\n",
      " |-- case_late: boolean (nullable = true)\n",
      " |-- num_days_late: double (nullable = true)\n",
      " |-- case_closed: boolean (nullable = true)\n",
      " |-- dept_division: string (nullable = true)\n",
      " |-- service_request_type: string (nullable = true)\n",
      " |-- SLA_days: double (nullable = true)\n",
      " |-- case_status: string (nullable = true)\n",
      " |-- source_id: string (nullable = true)\n",
      " |-- request_address: string (nullable = true)\n",
      " |-- council_district: string (nullable = false)\n",
      " |-- num_weeks_late: double (nullable = true)\n",
      " |-- zipcode: string (nullable = true)\n",
      " |-- case_age: integer (nullable = true)\n",
      " |-- days_to_closed: integer (nullable = true)\n",
      " |-- case_lifetime: integer (nullable = true)\n",
      " |-- num_hours_late: double (nullable = true)\n",
      "\n"
     ]
    }
   ],
   "source": [
    "df.printSchema()"
   ]
  },
  {
   "cell_type": "markdown",
   "id": "01f6cc30",
   "metadata": {},
   "source": [
    "## 7 join"
   ]
  },
  {
   "cell_type": "code",
   "execution_count": 52,
   "id": "5b11793a",
   "metadata": {
    "collapsed": true
   },
   "outputs": [
    {
     "name": "stderr",
     "output_type": "stream",
     "text": [
      "23/05/22 10:59:32 WARN TaskSetManager: Stage 50 contains a task of very large size (1346 KiB). The maximum recommended task size is 1000 KiB.\n",
      "[Stage 50:>                                                         (0 + 8) / 8]\r"
     ]
    },
    {
     "name": "stdout",
     "output_type": "stream",
     "text": [
      "+----------+-------------------+-------------------+-------------------+---------+-------------+-----------+----------------+--------------------+--------+-----------+---------+--------------------+----------------+--------------+-------+--------+--------------+-------------+--------------+----------------+--------------------+----------------------+-------------------+\n",
      "|   case_id|   case_opened_date|   case_closed_date|      case_due_date|case_late|num_days_late|case_closed|   dept_division|service_request_type|SLA_days|case_status|source_id|     request_address|council_district|num_weeks_late|zipcode|case_age|days_to_closed|case_lifetime|num_hours_late|   dept_division|           dept_name|standardized_dept_name|dept_subject_to_SLA|\n",
      "+----------+-------------------+-------------------+-------------------+---------+-------------+-----------+----------------+--------------------+--------+-----------+---------+--------------------+----------------+--------------+-------+--------+--------------+-------------+--------------+----------------+--------------------+----------------------+-------------------+\n",
      "|1014127332|2018-01-01 00:42:00|2018-01-01 00:42:00|2018-01-01 00:42:00|    false| -998.5087616|       true|Field Operations|        Stray Animal|   999.0|     Closed| svcCRMLS|2315  el paso st,...|             005|        -142.6|  78207|    1967|             0|            0|      -23964.2|Field Operations|Animal Care Services|  Animal Care Services|                YES|\n",
      "+----------+-------------------+-------------------+-------------------+---------+-------------+-----------+----------------+--------------------+--------+-----------+---------+--------------------+----------------+--------------+-------+--------+--------------+-------------+--------------+----------------+--------------------+----------------------+-------------------+\n",
      "only showing top 1 row\n",
      "\n"
     ]
    },
    {
     "name": "stderr",
     "output_type": "stream",
     "text": [
      "\r",
      "                                                                                \r"
     ]
    }
   ],
   "source": [
    "df.join(df2, how='left', on=df.dept_division == df2.dept_division).show(1)"
   ]
  },
  {
   "cell_type": "markdown",
   "id": "b9a6b189",
   "metadata": {},
   "source": [
    "## 8 any cases without a request source"
   ]
  },
  {
   "cell_type": "code",
   "execution_count": 57,
   "id": "4f74f5a5",
   "metadata": {},
   "outputs": [
    {
     "name": "stderr",
     "output_type": "stream",
     "text": [
      "23/05/22 11:11:16 WARN TaskSetManager: Stage 59 contains a task of very large size (1346 KiB). The maximum recommended task size is 1000 KiB.\n",
      "23/05/22 11:11:16 WARN TaskSetManager: Stage 60 contains a task of very large size (1356 KiB). The maximum recommended task size is 1000 KiB.\n"
     ]
    },
    {
     "name": "stdout",
     "output_type": "stream",
     "text": [
      "+-----------+----------------+----------------+--------+--------------+-------------+\n",
      "|case_closed|case_opened_date|case_closed_date|case_age|days_to_closed|case_lifetime|\n",
      "+-----------+----------------+----------------+--------+--------------+-------------+\n",
      "+-----------+----------------+----------------+--------+--------------+-------------+\n",
      "\n"
     ]
    },
    {
     "name": "stderr",
     "output_type": "stream",
     "text": [
      "23/05/22 11:11:17 WARN TaskSetManager: Stage 61 contains a task of very large size (1350 KiB). The maximum recommended task size is 1000 KiB.\n"
     ]
    }
   ],
   "source": [
    "df.select(\n",
    "    \"case_closed\",\n",
    "    \"case_opened_date\",\n",
    "    \"case_closed_date\",\n",
    "    \"case_age\",\n",
    "    \"days_to_closed\",\n",
    "    \"case_lifetime\",\n",
    ").filter(F.col('source_id').isNull()).show(5)"
   ]
  },
  {
   "cell_type": "code",
   "execution_count": 60,
   "id": "787ab169",
   "metadata": {},
   "outputs": [
    {
     "name": "stderr",
     "output_type": "stream",
     "text": [
      "23/05/22 11:18:15 WARN TaskSetManager: Stage 65 contains a task of very large size (1346 KiB). The maximum recommended task size is 1000 KiB.\n",
      "[Stage 65:>                                                         (0 + 8) / 8]\r"
     ]
    },
    {
     "name": "stdout",
     "output_type": "stream",
     "text": [
      "+-------+------------------+-------------+----------------+--------------------+--------+-----------+------------------+--------------------+------------------+--------------+------------------+------------------+--------------+------------------+--------------+\n",
      "|summary|           case_id|num_days_late|   dept_division|service_request_type|SLA_days|case_status|         source_id|     request_address|  council_district|num_weeks_late|           zipcode|          case_age|days_to_closed|     case_lifetime|num_hours_late|\n",
      "+-------+------------------+-------------+----------------+--------------------+--------+-----------+------------------+--------------------+------------------+--------------+------------------+------------------+--------------+------------------+--------------+\n",
      "|  count|            100000|       100000|          100000|              100000|  100000|     100000|            100000|              100000|            100000|        100000|            100000|            100000|        100000|            100000|        100000|\n",
      "|   mean|1.01422656004933E9|          NaN|            null|                null|     NaN|       null|136592.12481159836|                null|           4.54302|           NaN| 78065.28980184691|        1929.88849|           0.0|          27.98836|           NaN|\n",
      "| stddev| 56335.22377377268|          NaN|            null|                null|     NaN|       null| 7110.724059297738|                null|2.7253483364215243|           NaN|3518.5603814232027|20.854648514984774|           0.0|230.51105378694868|           NaN|\n",
      "|    min|        1014127332| -1231.707778| 311 Call Center|1st Call Bagged L...|   0.125|     Closed|            100137|0  majestic way, ...|               000|        -176.0|                  |              1896|             0|                 0|      -29561.0|\n",
      "|    max|        1014323008|          NaN|Waste Collection|Zoning: Visual Ob...|     NaN|       Open|           yc16753|zulema and 41st s...|               010|           NaN|             78288|              1967|             0|              1966|           NaN|\n",
      "+-------+------------------+-------------+----------------+--------------------+--------+-----------+------------------+--------------------+------------------+--------------+------------------+------------------+--------------+------------------+--------------+\n",
      "\n"
     ]
    },
    {
     "name": "stderr",
     "output_type": "stream",
     "text": [
      "\r",
      "                                                                                \r"
     ]
    }
   ],
   "source": [
    "df.describe().show()"
   ]
  },
  {
   "cell_type": "markdown",
   "id": "2dd86f62",
   "metadata": {},
   "source": [
    "## 9 Top 10 service requests types by count"
   ]
  },
  {
   "cell_type": "code",
   "execution_count": 67,
   "id": "eb175b2e",
   "metadata": {},
   "outputs": [
    {
     "name": "stderr",
     "output_type": "stream",
     "text": [
      "23/05/22 11:22:44 WARN TaskSetManager: Stage 83 contains a task of very large size (1346 KiB). The maximum recommended task size is 1000 KiB.\n"
     ]
    },
    {
     "name": "stdout",
     "output_type": "stream",
     "text": [
      "+--------------------+---------------------------+\n",
      "|service_request_type|count(service_request_type)|\n",
      "+--------------------+---------------------------+\n",
      "|           No Pickup|                       8932|\n",
      "|Overgrown Yard/Trash|                       6853|\n",
      "|Front Or Side Yar...|                       5338|\n",
      "|        Bandit Signs|                       4781|\n",
      "|Aggressive Animal...|                       3541|\n",
      "|        Stray Animal|                       3497|\n",
      "|        Damaged Cart|                       3465|\n",
      "|Cart Exchange Req...|                       3282|\n",
      "|Right Of Way/Side...|                       3121|\n",
      "|Junk Vehicle On P...|                       2897|\n",
      "+--------------------+---------------------------+\n",
      "only showing top 10 rows\n",
      "\n"
     ]
    }
   ],
   "source": [
    "df.groupby(df.service_request_type).agg(F.count(df.service_request_type)).sort(\n",
    "    F.count(df.service_request_type).desc()).show(10)"
   ]
  },
  {
   "cell_type": "markdown",
   "id": "9ef08f4e",
   "metadata": {},
   "source": [
    "## 10 Top 10 service requests types by average days_late"
   ]
  },
  {
   "cell_type": "code",
   "execution_count": 75,
   "id": "870fab13",
   "metadata": {},
   "outputs": [
    {
     "name": "stderr",
     "output_type": "stream",
     "text": [
      "23/05/22 11:49:01 WARN TaskSetManager: Stage 104 contains a task of very large size (1346 KiB). The maximum recommended task size is 1000 KiB.\n"
     ]
    },
    {
     "name": "stdout",
     "output_type": "stream",
     "text": [
      "+--------------------+----------------------------+\n",
      "|service_request_type|round(avg(num_days_late), 1)|\n",
      "+--------------------+----------------------------+\n",
      "|Request for Resea...|                         NaN|\n",
      "|  Zoning: Junk Yards|                       178.3|\n",
      "|Emergency: Main a...|                       173.5|\n",
      "|Status: On-Going ...|                       159.9|\n",
      "|Zoning: Recycle Yard|                       152.2|\n",
      "|           Complaint|                       136.8|\n",
      "|Markings Installa...|                       111.4|\n",
      "|             Vendors|                        71.2|\n",
      "|Donation Containe...|                        61.6|\n",
      "|   No Address Posted|                        61.1|\n",
      "|         Curbstoning|                        54.4|\n",
      "+--------------------+----------------------------+\n",
      "only showing top 11 rows\n",
      "\n"
     ]
    }
   ],
   "source": [
    "df.groupby(df.service_request_type).agg(F.round(F.avg(df.num_days_late),1)).sort(\n",
    "    F.avg(df.num_days_late).desc()).show(11)"
   ]
  },
  {
   "cell_type": "markdown",
   "id": "83061354",
   "metadata": {},
   "source": [
    "## 11 days late functionally dependent upon department"
   ]
  },
  {
   "cell_type": "code",
   "execution_count": 79,
   "id": "458a3988",
   "metadata": {},
   "outputs": [
    {
     "name": "stderr",
     "output_type": "stream",
     "text": [
      "23/05/22 11:53:27 WARN TaskSetManager: Stage 116 contains a task of very large size (1346 KiB). The maximum recommended task size is 1000 KiB.\n"
     ]
    },
    {
     "name": "stdout",
     "output_type": "stream",
     "text": [
      "+--------------------+----------------------------+\n",
      "|       dept_division|round(avg(num_days_late), 1)|\n",
      "+--------------------+----------------------------+\n",
      "|          District 2|                         NaN|\n",
      "|          District 1|                         NaN|\n",
      "|Director's Office...|                       159.9|\n",
      "|Code Enforcement ...|                       152.2|\n",
      "|     311 Call Center|                       112.0|\n",
      "|Engineering Division|                        30.2|\n",
      "|              Trades|                        10.3|\n",
      "|         Solid Waste|                         2.6|\n",
      "|Clean and Green N...|                         2.4|\n",
      "|       Miscellaneous|                        -1.7|\n",
      "|           Tree Crew|                        -1.7|\n",
      "|    Facility License|                        -1.8|\n",
      "|    Waste Collection|                        -1.8|\n",
      "|              Vector|                        -2.2|\n",
      "|               Shops|                        -3.0|\n",
      "|     Clean and Green|                        -3.2|\n",
      "|               Brush|                        -3.9|\n",
      "| Food Establishments|                        -7.2|\n",
      "|    Shops (Internal)|                        -7.7|\n",
      "|  Signs and Markings|                        -9.3|\n",
      "|Storm Water Engin...|                       -14.3|\n",
      "|         Storm Water|                       -17.8|\n",
      "|             Streets|                       -20.7|\n",
      "|             Signals|                       -25.9|\n",
      "|Traffic Engineeri...|                       -27.1|\n",
      "|    Code Enforcement|                       -33.3|\n",
      "|Code Enforcement ...|                       -36.1|\n",
      "|            Graffiti|                       -37.6|\n",
      "|   Dangerous Premise|                       -38.4|\n",
      "|   Graffiti (IntExp)|                       -41.3|\n",
      "|Dangerous Premise...|                       -54.9|\n",
      "|    Field Operations|                      -223.0|\n",
      "+--------------------+----------------------------+\n",
      "\n"
     ]
    }
   ],
   "source": [
    "df.groupby(df.dept_division).agg(F.round(F.avg(df.num_days_late),1)).sort(\n",
    "    F.avg(df.num_days_late).desc()).show(40)"
   ]
  },
  {
   "cell_type": "markdown",
   "id": "723b8fd1",
   "metadata": {},
   "source": [
    "## 12 days late functionally dependent upon department and request type"
   ]
  },
  {
   "cell_type": "code",
   "execution_count": 85,
   "id": "5208c3b6",
   "metadata": {},
   "outputs": [
    {
     "name": "stderr",
     "output_type": "stream",
     "text": [
      "23/05/22 11:56:24 WARN TaskSetManager: Stage 134 contains a task of very large size (1346 KiB). The maximum recommended task size is 1000 KiB.\n"
     ]
    },
    {
     "name": "stdout",
     "output_type": "stream",
     "text": [
      "+--------------------+--------------------+----------------------------+\n",
      "|       dept_division|service_request_type|round(avg(num_days_late), 1)|\n",
      "+--------------------+--------------------+----------------------------+\n",
      "|          District 2|Request for Resea...|                         NaN|\n",
      "|          District 1|Request for Resea...|                         NaN|\n",
      "|    Code Enforcement|  Zoning: Junk Yards|                       178.3|\n",
      "|   Dangerous Premise|Emergency: Main a...|                       173.5|\n",
      "|Director's Office...|Status: On-Going ...|                       159.9|\n",
      "|Code Enforcement ...|Zoning: Recycle Yard|                       152.2|\n",
      "|     311 Call Center|           Complaint|                       136.8|\n",
      "|  Signs and Markings|Markings Installa...|                       111.4|\n",
      "|    Code Enforcement|             Vendors|                        71.2|\n",
      "|    Code Enforcement|Donation Containe...|                        61.6|\n",
      "|    Code Enforcement|   No Address Posted|                        61.1|\n",
      "|    Code Enforcement|         Curbstoning|                        54.4|\n",
      "|              Trades|   Fence/Gate Repair|                        46.0|\n",
      "|    Shops (Internal)|          Electrical|                        42.5|\n",
      "|              Trades| Sportfield Lighting|                        39.6|\n",
      "|    Waste Collection|Solid Waste Fees ...|                        35.9|\n",
      "|    Code Enforcement|Dart Preliminary ...|                        34.6|\n",
      "|Engineering Division|Street Light New ...|                        31.8|\n",
      "|Engineering Division|Street Light Exis...|                        30.1|\n",
      "|Code Enforcement ...|Boarding Home Ins...|                        27.5|\n",
      "|    Waste Collection| Service Information|                        26.4|\n",
      "|    Shops (Internal)|             Fencing|                        24.2|\n",
      "|    Shops (Internal)|             Masonry|                        23.2|\n",
      "|   Dangerous Premise|DSDB Ordered/Hold...|                        20.8|\n",
      "|    Field Operations|Aggressive Animal...|                        15.5|\n",
      "|              Trades|    Sign Maintenance|                        15.3|\n",
      "|    Field Operations|      Animal Neglect|                        15.3|\n",
      "|    Field Operations|Animal Permits Re...|                        12.3|\n",
      "|              Trades|General Building ...|                        10.1|\n",
      "|    Code Enforcement|Improper Storage ...|                         9.9|\n",
      "|    Code Enforcement|    Permits Building|                         8.7|\n",
      "|    Code Enforcement|Vacant Lot-County...|                         7.5|\n",
      "|Code Enforcement ...|Historical Buildi...|                         7.0|\n",
      "|    Waste Collection|      Cart Placement|                         5.5|\n",
      "|    Waste Collection|Request for Comme...|                         4.9|\n",
      "|    Waste Collection|      Alley Problems|                         3.9|\n",
      "|              Trades|Miscellaneous Par...|                         3.8|\n",
      "|    Shops (Internal)|           Carpentry|                         3.8|\n",
      "|    Waste Collection|Disability Servic...|                         2.8|\n",
      "|         Solid Waste|Solid Waste - Mis...|                         2.6|\n",
      "|Clean and Green N...|Trail/Greenway Ma...|                         2.4|\n",
      "|   Dangerous Premise|DSDB Ordered/Hold...|                         2.0|\n",
      "|    Shops (Internal)|               Signs|                         2.0|\n",
      "|             Streets|Initiating Unknow...|                         2.0|\n",
      "|    Waste Collection|Automation Proper...|                         1.8|\n",
      "|  Signs and Markings|Speed Hump Repair...|                         1.4|\n",
      "|    Field Operations|City Council Anim...|                         1.3|\n",
      "|         Storm Water|Drainage Channel ...|                         1.0|\n",
      "|    Shops (Internal)|            Painting|                         0.5|\n",
      "|    Field Operations|Aggressive Animal...|                         0.4|\n",
      "|    Waste Collection|  Scattered Material|                         0.4|\n",
      "|    Field Operations|Trapped/Confined ...|                         0.3|\n",
      "|    Waste Collection|  Organics No Pickup|                         0.1|\n",
      "|    Waste Collection|Lost / Stolen Org...|                         0.1|\n",
      "|    Field Operations|Animal Bite(Criti...|                         0.0|\n",
      "|Traffic Engineeri...|School Sign New R...|                         0.0|\n",
      "|    Field Operations|Animal Cruelty(Cr...|                         0.0|\n",
      "|    Field Operations|Injured Animal(Cr...|                        -0.1|\n",
      "|    Field Operations|     Officer Standby|                        -0.1|\n",
      "|    Shops (Internal)|Park Building Mai...|                        -0.2|\n",
      "|    Shops (Internal)|             Welding|                        -0.2|\n",
      "|           Tree Crew|Tree Trimming/Mai...|                        -0.3|\n",
      "|             Streets| Rebarb Sticking Out|                        -0.3|\n",
      "|    Shops (Internal)|            Plumbing|                        -0.4|\n",
      "|    Waste Collection|Disability Assist...|                        -0.8|\n",
      "|    Waste Collection|Recycle Container...|                        -0.9|\n",
      "|              Trades|Playground Mainte...|                        -1.0|\n",
      "|     Clean and Green|Brush/Debris Coll...|                        -1.0|\n",
      "|    Shops (Internal)|        Graffiti Int|                        -1.1|\n",
      "|              Trades|            Graffiti|                        -1.2|\n",
      "|     Clean and Green|        Parks Mowing|                        -1.3|\n",
      "|    Waste Collection|Organics Info / L...|                        -1.4|\n",
      "|         Storm Water|Manhole or Inlet ...|                        -1.4|\n",
      "|            Graffiti|     Graffiti: Fence|                        -1.4|\n",
      "|     Clean and Green|Outdoor Trash/Mut...|                        -1.5|\n",
      "|            Graffiti|Graffiti: Drainag...|                        -1.5|\n",
      "|         Storm Water|         Tree Fallen|                        -1.5|\n",
      "|             Streets|           Barricade|                        -1.6|\n",
      "|         Storm Water|       Street Debris|                        -1.6|\n",
      "|             Streets|     Pot Hole Repair|                        -1.6|\n",
      "|            Graffiti|Graffiti: Retaini...|                        -1.6|\n",
      "|       Miscellaneous|   Dead Animal - Dog|                        -1.7|\n",
      "|       Miscellaneous|  Dead Animal - Misc|                        -1.7|\n",
      "|       Miscellaneous|   Dead Animal - Cat|                        -1.7|\n",
      "|            Graffiti|Graffiti: Traffic...|                        -1.7|\n",
      "|            Graffiti|  Graffiti: Sidewalk|                        -1.8|\n",
      "|    Facility License|License Renewal I...|                        -1.8|\n",
      "|            Graffiti| Graffiti: Guardrail|                        -1.8|\n",
      "|             Signals|Traffic Signal Op...|                        -1.8|\n",
      "| Food Establishments|   Smoking Ordinance|                        -1.9|\n",
      "|            Graffiti|      Graffiti: Curb|                        -1.9|\n",
      "|    Waste Collection|Organics Cart Rem...|                        -2.0|\n",
      "|              Trades|Plumbing/Drinking...|                        -2.0|\n",
      "|    Waste Collection|Recycling - No Pi...|                        -2.0|\n",
      "|  Signs and Markings|Stop/Yield Sign D...|                        -2.0|\n",
      "|            Graffiti|Graffiti: Traffic...|                        -2.1|\n",
      "|               Brush|Illegal Dumping (...|                        -2.1|\n",
      "|    Waste Collection|           No Pickup|                        -2.2|\n",
      "|              Vector| Public Right of Way|                        -2.2|\n",
      "|    Shops (Internal)|Lake and Ponds Ma...|                        -2.2|\n",
      "|            Graffiti|Graffiti Public P...|                        -2.2|\n",
      "|    Shops (Internal)|          Ballfields|                        -2.3|\n",
      "|    Field Operations|Animal Bite(Non-C...|                        -2.3|\n",
      "|         Storm Water|Removal Of Obstru...|                        -2.5|\n",
      "|             Signals|School Flashers M...|                        -2.5|\n",
      "|   Graffiti (IntExp)|      Graffiti: Curb|                        -2.5|\n",
      "|   Graffiti (IntExp)|  Graffiti: Sidewalk|                        -2.5|\n",
      "|               Brush|Brush / Bulky Mis...|                        -2.5|\n",
      "|               Brush|     Brush No Notice|                        -2.6|\n",
      "|    Code Enforcement|Basketball Goals ...|                        -2.6|\n",
      "|    Waste Collection|Additional Garbag...|                        -2.7|\n",
      "|         Storm Water|Street Sweeping- ...|                        -2.7|\n",
      "|     Clean and Green|Indoor Janitorial...|                        -2.7|\n",
      "|  Signs and Markings|Traffic Sign Visu...|                        -2.7|\n",
      "|       Miscellaneous|Dead Animal - Pri...|                        -2.7|\n",
      "|               Brush|      Bulk no Notice|                        -2.9|\n",
      "|     Clean and Green|    Portable Toilets|                        -2.9|\n",
      "|   Graffiti (IntExp)|     Graffiti: Fence|                        -3.0|\n",
      "|               Shops|Amenity Park Impr...|                        -3.0|\n",
      "|         Storm Water|Vegetation- Visua...|                        -3.0|\n",
      "|         Storm Water|Tree- Visual Obst...|                        -3.0|\n",
      "|   Graffiti (IntExp)|Graffiti: Retaini...|                        -3.1|\n",
      "|   Graffiti (IntExp)|Graffiti: Drainag...|                        -3.1|\n",
      "|   Graffiti (IntExp)|  Graffiti: Building|                        -3.1|\n",
      "| Food Establishments|Working without a...|                        -3.2|\n",
      "|    Waste Collection|Cart Exchange Req...|                        -3.2|\n",
      "|    Waste Collection|        Damaged Cart|                        -3.2|\n",
      "|             Signals|Knockdowns - Sign...|                        -3.2|\n",
      "|   Graffiti (IntExp)|Graffiti: Traffic...|                        -3.2|\n",
      "|             Signals|Visual Obstructio...|                        -3.3|\n",
      "|    Waste Collection|         Cart PickUp|                        -3.4|\n",
      "|    Waste Collection|    Lost/Stolen Cart|                        -3.5|\n",
      "|    Field Operations|Public Nuisance(O...|                        -3.6|\n",
      "|    Waste Collection|1st Call Bagged L...|                        -3.6|\n",
      "|    Waste Collection|       Cart Delivery|                        -3.6|\n",
      "|    Waste Collection|         Cart Pickup|                        -3.8|\n",
      "|         Storm Water|Drainage Channel ...|                        -4.0|\n",
      "|    Shops (Internal)|Heating and Air C...|                        -4.1|\n",
      "|    Shops (Internal)|               Pools|                        -4.2|\n",
      "|    Waste Collection|Additional Cart R...|                        -4.2|\n",
      "|               Brush|Brush - Out of Cy...|                        -4.2|\n",
      "|   Dangerous Premise|Emergency: Access...|                        -4.2|\n",
      "|    Code Enforcement|Zoning: Oversized...|                        -4.2|\n",
      "|    Code Enforcement|     Permits, Fences|                        -4.4|\n",
      "|    Waste Collection|2nd Call Bagged L...|                        -4.5|\n",
      "|               Brush|Brush-non Complia...|                        -4.5|\n",
      "|           Tree Crew|        Tree Removal|                        -4.6|\n",
      "|               Brush|Bulk-non Complian...|                        -4.6|\n",
      "|    Waste Collection|3rd Call Bagged L...|                        -4.7|\n",
      "|   Dangerous Premise|Emergency: Main S...|                        -5.0|\n",
      "|    Waste Collection|Organics Cart Del...|                        -5.4|\n",
      "|               Brush|Brush Property Da...|                        -5.6|\n",
      "| Food Establishments|               Pests|                        -5.7|\n",
      "|         Storm Water|     Street Sweeping|                        -5.9|\n",
      "|              Trades|Lake/Pond Mainten...|                        -5.9|\n",
      "|  Signs and Markings|Traffic Sign Miss...|                        -6.0|\n",
      "|    Waste Collection|      Dial-A-Trailer|                        -6.2|\n",
      "|               Brush| Bulk Missed Pick up|                        -6.3|\n",
      "|    Code Enforcement|Dumpsters: City R...|                        -6.3|\n",
      "|    Shops (Internal)|  Darner Maintenance|                        -6.4|\n",
      "|               Brush|Brush Missed Pick up|                        -6.5|\n",
      "|    Waste Collection|Garbage Out of Cy...|                        -6.7|\n",
      "|             Streets|   Barricade Pick Up|                        -6.7|\n",
      "|               Brush|Bulk Partial Pick Up|                        -6.8|\n",
      "|Traffic Engineeri...|Bicycle Lane/Rout...|                        -6.8|\n",
      "|    Code Enforcement|Alley Address Req...|                        -7.0|\n",
      "|             Streets|On-Going PW Projects|                        -7.0|\n",
      "| Food Establishments|      Food Poisoning|                        -7.3|\n",
      "|               Brush|Brush Partial Pic...|                        -7.3|\n",
      "| Food Establishments|  Hygienic Practices|                        -7.5|\n",
      "| Food Establishments|Public/Semi-Publi...|                        -7.7|\n",
      "|    Shops (Internal)|         Playgrounds|                        -7.8|\n",
      "|  Signs and Markings|Pavement Marking ...|                        -7.8|\n",
      "|    Code Enforcement|    Vehicle Blocking|                        -7.9|\n",
      "| Food Establishments|  Food Borne Illness|                        -7.9|\n",
      "| Food Establishments|Food Contact Surf...|                        -8.2|\n",
      "|    Code Enforcement|        Bandit Signs|                        -8.4|\n",
      "| Food Establishments| Sanitary Conditions|                        -8.6|\n",
      "|              Trades|Outdoor Athletic ...|                        -8.9|\n",
      "|             Streets|   Driveways -Adjust|                        -9.0|\n",
      "|    Code Enforcement|Right Of Way/Side...|                        -9.5|\n",
      "|    Code Enforcement|Used Mattress Ins...|                        -9.6|\n",
      "|    Shops (Internal)|Small Equipment R...|                        -9.6|\n",
      "|    Shops (Internal)|          Irrigation|                        -9.8|\n",
      "|     Clean and Green|Landscape Mainten...|                        -9.9|\n",
      "|    Shops (Internal)|    Pressure Washing|                       -10.0|\n",
      "|     311 Call Center|          Compliment|                       -10.2|\n",
      "|             Streets|Curb or Sidewalk ...|                       -10.6|\n",
      "|    Code Enforcement|Front Or Side Yar...|                       -11.0|\n",
      "|         Storm Water|Herbicide - Grass...|                       -11.4|\n",
      "|Code Enforcement ...|Front Or Side Yar...|                       -11.5|\n",
      "|             Streets|Speed Hump Set Mi...|                       -11.9|\n",
      "|             Streets|ADA Infrastructur...|                       -11.9|\n",
      "| Food Establishments|         Food Source|                       -12.1|\n",
      "| Food Establishments|         Ventilation|                       -12.2|\n",
      "|Traffic Engineeri...|  Speed Hump Request|                       -12.3|\n",
      "|  Signs and Markings|Traffic Sign Graf...|                       -12.3|\n",
      "|               Brush|        Storm Damage|                       -12.9|\n",
      "|    Code Enforcement|Graffiti-Private ...|                       -13.2|\n",
      "|  Signs and Markings|Traffic Sign Visu...|                       -13.2|\n",
      "|Code Enforcement ...|Right Of Way/Side...|                       -13.5|\n",
      "|   Dangerous Premise|DSDB Ordered/Hold...|                       -13.5|\n",
      "|    Code Enforcement|Garage Sales No P...|                       -13.7|\n",
      "|Code Enforcement ...|Absentee Property...|                       -14.2|\n",
      "|Storm Water Engin...|Engineering Inves...|                       -14.3|\n",
      "|Traffic Engineeri...|School Flashers- ...|                       -16.0|\n",
      "|         Storm Water|Drainage Inlet - ...|                       -16.4|\n",
      "|Traffic Engineeri...|Guardrail- New Re...|                       -16.7|\n",
      "|Traffic Engineeri...|Accident Problem ...|                       -18.0|\n",
      "|Traffic Engineeri...|Sign - No Thru Tr...|                       -18.2|\n",
      "|Traffic Engineeri...|       Parking Issue|                       -18.4|\n",
      "|  Signs and Markings|  Traffic Sign Faded|                       -19.2|\n",
      "|Traffic Engineeri...|Misc Sign - New R...|                       -19.4|\n",
      "|Traffic Engineeri...|    Speed Limit Sign|                       -19.6|\n",
      "|    Shops (Internal)|     Heavy Equipment|                       -21.3|\n",
      "|Traffic Engineeri...|Pavement Marking ...|                       -21.9|\n",
      "|    Code Enforcement|Solid Waste Insp:...|                       -23.4|\n",
      "|  Signs and Markings|  Speed Hump Repairs|                       -24.4|\n",
      "|Traffic Engineeri...|Dead End/No Outle...|                       -25.1|\n",
      "|             Streets|Pavers Broken/Mis...|                       -26.5|\n",
      "|             Signals|Traffic Signal Op...|                       -26.8|\n",
      "|Traffic Engineeri...|Road Curvature/Vi...|                       -27.7|\n",
      "|    Code Enforcement|Vacant Lot-State ...|                       -28.3|\n",
      "|         Storm Water|Drainage Channel ...|                       -28.7|\n",
      "|    Code Enforcement|Used/Scrap Tire F...|                       -29.1|\n",
      "|    Code Enforcement|Animal Investigat...|                       -29.3|\n",
      "|Traffic Engineeri...|  All-Way Stop Study|                       -29.4|\n",
      "|Traffic Engineeri...|Traffic Issue Inv...|                       -30.0|\n",
      "|   Dangerous Premise|Dang Premises/Cut...|                       -31.0|\n",
      "|    Code Enforcement|Wasting Water (Ge...|                       -32.6|\n",
      "|         Storm Water|Concrete Infrastr...|                       -33.3|\n",
      "|Code Enforcement ...|Overgrown Yard/Trash|                       -33.7|\n",
      "|         Storm Water|Drainage Channel/...|                       -34.5|\n",
      "|             Streets|Water Ponding or ...|                       -34.6|\n",
      "|Code Enforcement ...|Junk Vehicle - Wr...|                       -36.4|\n",
      "|             Streets|Guard Rail/Guard ...|                       -37.5|\n",
      "|  Signs and Markings|Sign Installation...|                       -37.6|\n",
      "|    Code Enforcement|Zoning: District ...|                       -38.9|\n",
      "|             Streets|Street/Drainage P...|                       -39.0|\n",
      "|    Code Enforcement|Vacant Lot-Privat...|                       -39.3|\n",
      "|    Code Enforcement|Junk Vehicle On P...|                       -39.5|\n",
      "|   Dangerous Premise|Dang. Premises/CL...|                       -40.4|\n",
      "|Code Enforcement ...|Junk Vehicle On P...|                       -41.6|\n",
      "|    Code Enforcement|Zoning: Mobile Homes|                       -42.4|\n",
      "|    Code Enforcement|Vacant Lot-City (...|                       -43.5|\n",
      "|    Code Enforcement|Vacant Lot-Privat...|                       -43.9|\n",
      "|Traffic Engineeri...|Stop Sign New Req...|                       -44.3|\n",
      "|    Code Enforcement|Overgrown Yard/Trash|                       -44.7|\n",
      "|Traffic Engineeri...|Flashing Beacon N...|                       -45.3|\n",
      "|    Code Enforcement|Discharge Into Pu...|                       -45.5|\n",
      "|   Dangerous Premise|Dang Premises/Sec...|                       -46.2|\n",
      "|    Code Enforcement|Vacant Lot-City (...|                       -46.4|\n",
      "|             Signals|Left-Turn Signal ...|                       -46.5|\n",
      "|         Storm Water|Drainage Investig...|                       -46.8|\n",
      "|    Code Enforcement|  Lot-Private (1000)|                       -47.3|\n",
      "|            Graffiti|Graffiti: Tenant ...|                       -47.6|\n",
      "|Traffic Engineeri...|Traffic Signal Ne...|                       -48.6|\n",
      "|    Code Enforcement|Fly Breeding and ...|                       -48.7|\n",
      "|    Code Enforcement|Alley-Way Mainten...|                       -49.0|\n",
      "|    Code Enforcement|   Sewer Line Broken|                       -49.1|\n",
      "|   Dangerous Premise|Vacant House Over...|                       -49.3|\n",
      "|    Code Enforcement|Vacant Lot: Over 12\"|                       -49.7|\n",
      "|    Code Enforcement|Vacant Lot/Overgr...|                       -51.5|\n",
      "|Code Enforcement ...|    Brush Violations|                       -52.8|\n",
      "|    Code Enforcement|Dead Trees: Priva...|                       -53.9|\n",
      "|    Code Enforcement|Dumpsters: Mainte...|                       -53.9|\n",
      "|    Code Enforcement|Used/Scrap Tire F...|                       -54.3|\n",
      "|Dangerous Premise...|Vacant House Over...|                       -54.9|\n",
      "|    Code Enforcement|Zoning: Visual Ob...|                       -55.6|\n",
      "|    Code Enforcement|Sewer No Connections|                       -56.1|\n",
      "|    Code Enforcement|Vacant Lot-County...|                       -57.0|\n",
      "|    Code Enforcement|Pooled Water (Mos...|                       -57.3|\n",
      "|    Code Enforcement|    Brush Violations|                       -57.4|\n",
      "|         Storm Water|Drainage Inlet Re...|                       -58.4|\n",
      "|             Streets|Garbage PU Alley ...|                       -59.4|\n",
      "|Code Enforcement ...|Vacant Lot/Overgr...|                       -60.3|\n",
      "|            Graffiti|Graffiti: Vacant ...|                       -62.1|\n",
      "|    Code Enforcement|Vacant Lot-City (...|                       -62.3|\n",
      "|Code Enforcement ...|Alley-Way Mainten...|                       -63.0|\n",
      "|            Graffiti|Graffiti: Private...|                       -63.5|\n",
      "|             Signals|Pedestrian Signal...|                       -67.2|\n",
      "|             Streets|     Shoulder Repair|                       -69.0|\n",
      "|    Code Enforcement|Zoning: Illumination|                       -71.1|\n",
      "|             Signals|Signal Timing Mod...|                       -80.6|\n",
      "|    Code Enforcement|    Zoning: Setbacks|                       -85.5|\n",
      "|    Code Enforcement|Minimum Housing-T...|                       -95.5|\n",
      "|    Code Enforcement|Minimum Housing-O...|                       -99.8|\n",
      "|    Code Enforcement|Certificates of O...|                       -99.9|\n",
      "|             Streets|Base/Pavement Repair|                      -101.2|\n",
      "|    Code Enforcement|Zoning: Outside S...|                      -107.4|\n",
      "|Code Enforcement ...|Minimum Housing-T...|                      -108.5|\n",
      "|    Code Enforcement|Swim. Pool Inspec...|                      -109.3|\n",
      "|    Code Enforcement|Zoning: Multi-Fam...|                      -110.8|\n",
      "|    Code Enforcement|Zoning Business i...|                      -110.8|\n",
      "|    Code Enforcement|Low Hanging Limbs...|                      -112.0|\n",
      "|    Code Enforcement|   Water No Services|                      -114.2|\n",
      "|             Streets|Manhole Sunken/Ra...|                      -114.8|\n",
      "|    Code Enforcement|Wasting Water (Le...|                      -116.5|\n",
      "|Code Enforcement ...|Minimum Housing-O...|                      -121.6|\n",
      "|    Code Enforcement|Temporary Obstruc...|                      -121.8|\n",
      "|   Graffiti (IntExp)|   CPS Energy Towers|                      -128.5|\n",
      "|   Graffiti (IntExp)|CPS Energy Metal ...|                      -129.1|\n",
      "|   Graffiti (IntExp)|CPS Energy Wood P...|                      -129.1|\n",
      "|             Streets|Sidewalk Cost Sha...|                      -152.9|\n",
      "|    Shops (Internal)|Major Park Improv...|                      -309.4|\n",
      "|    Field Operations|        Stray Animal|                      -998.8|\n",
      "|             Signals|Signal Timing Mod...|                     -1222.6|\n",
      "+--------------------+--------------------+----------------------------+\n",
      "\n"
     ]
    }
   ],
   "source": [
    "df.groupby(df.dept_division,df.service_request_type).agg(F.round(F.avg(df.num_days_late),1)).sort(\n",
    "    F.avg(df.num_days_late).desc()).show(400)"
   ]
  },
  {
   "cell_type": "code",
   "execution_count": null,
   "id": "ea4097a4",
   "metadata": {},
   "outputs": [],
   "source": []
  },
  {
   "cell_type": "code",
   "execution_count": null,
   "id": "7adff9c8",
   "metadata": {},
   "outputs": [],
   "source": []
  },
  {
   "cell_type": "code",
   "execution_count": null,
   "id": "c9332ef1",
   "metadata": {},
   "outputs": [],
   "source": []
  },
  {
   "cell_type": "code",
   "execution_count": null,
   "id": "5e11b3db",
   "metadata": {},
   "outputs": [],
   "source": []
  }
 ],
 "metadata": {
  "kernelspec": {
   "display_name": "Python 3 (ipykernel)",
   "language": "python",
   "name": "python3"
  },
  "language_info": {
   "codemirror_mode": {
    "name": "ipython",
    "version": 3
   },
   "file_extension": ".py",
   "mimetype": "text/x-python",
   "name": "python",
   "nbconvert_exporter": "python",
   "pygments_lexer": "ipython3",
   "version": "3.9.13"
  }
 },
 "nbformat": 4,
 "nbformat_minor": 5
}
