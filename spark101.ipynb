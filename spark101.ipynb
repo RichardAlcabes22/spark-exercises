{
 "cells": [
  {
   "cell_type": "code",
   "execution_count": 47,
   "id": "9b90f65f",
   "metadata": {},
   "outputs": [],
   "source": [
    "import pyspark\n",
    "import pandas as pd\n",
    "import numpy as np\n",
    "from pydataset import data\n",
    "from pyspark.sql import functions as F\n",
    "from pyspark.sql import Row\n",
    "from pyspark.sql import SparkSession\n",
    "import pyspark.sql.functions as F\n",
    "from pyspark.sql.types import *\n",
    "from vega_datasets import data\n"
   ]
  },
  {
   "cell_type": "markdown",
   "id": "f219e4bb",
   "metadata": {},
   "source": [
    "# Question 1 Fav Languages"
   ]
  },
  {
   "cell_type": "code",
   "execution_count": 2,
   "id": "0fc7ffc3",
   "metadata": {},
   "outputs": [
    {
     "data": {
      "text/html": [
       "<div>\n",
       "<style scoped>\n",
       "    .dataframe tbody tr th:only-of-type {\n",
       "        vertical-align: middle;\n",
       "    }\n",
       "\n",
       "    .dataframe tbody tr th {\n",
       "        vertical-align: top;\n",
       "    }\n",
       "\n",
       "    .dataframe thead th {\n",
       "        text-align: right;\n",
       "    }\n",
       "</style>\n",
       "<table border=\"1\" class=\"dataframe\">\n",
       "  <thead>\n",
       "    <tr style=\"text-align: right;\">\n",
       "      <th></th>\n",
       "      <th>language</th>\n",
       "    </tr>\n",
       "  </thead>\n",
       "  <tbody>\n",
       "    <tr>\n",
       "      <th>0</th>\n",
       "      <td>SQL</td>\n",
       "    </tr>\n",
       "    <tr>\n",
       "      <th>1</th>\n",
       "      <td>Python</td>\n",
       "    </tr>\n",
       "    <tr>\n",
       "      <th>2</th>\n",
       "      <td>R</td>\n",
       "    </tr>\n",
       "    <tr>\n",
       "      <th>3</th>\n",
       "      <td>html</td>\n",
       "    </tr>\n",
       "    <tr>\n",
       "      <th>4</th>\n",
       "      <td>javascript</td>\n",
       "    </tr>\n",
       "    <tr>\n",
       "      <th>5</th>\n",
       "      <td>php</td>\n",
       "    </tr>\n",
       "    <tr>\n",
       "      <th>6</th>\n",
       "      <td>css</td>\n",
       "    </tr>\n",
       "  </tbody>\n",
       "</table>\n",
       "</div>"
      ],
      "text/plain": [
       "     language\n",
       "0         SQL\n",
       "1      Python\n",
       "2           R\n",
       "3        html\n",
       "4  javascript\n",
       "5         php\n",
       "6         css"
      ]
     },
     "execution_count": 2,
     "metadata": {},
     "output_type": "execute_result"
    }
   ],
   "source": [
    "langs = ['SQL','Python','R','html','javascript','php','css']\n",
    "pandas_dataframe = pd.DataFrame({'language':langs}\n",
    ")\n",
    "pandas_dataframe\n"
   ]
  },
  {
   "cell_type": "code",
   "execution_count": 3,
   "id": "69ff879e",
   "metadata": {},
   "outputs": [
    {
     "name": "stderr",
     "output_type": "stream",
     "text": [
      "Setting default log level to \"WARN\".\n",
      "To adjust logging level use sc.setLogLevel(newLevel). For SparkR, use setLogLevel(newLevel).\n",
      "23/05/19 10:10:51 WARN NativeCodeLoader: Unable to load native-hadoop library for your platform... using builtin-java classes where applicable\n"
     ]
    }
   ],
   "source": [
    "spark = pyspark.sql.SparkSession.builder.getOrCreate()"
   ]
  },
  {
   "cell_type": "code",
   "execution_count": 4,
   "id": "e33c21f3",
   "metadata": {},
   "outputs": [],
   "source": [
    "df = spark.createDataFrame(pandas_dataframe)"
   ]
  },
  {
   "cell_type": "code",
   "execution_count": 5,
   "id": "9a083369",
   "metadata": {},
   "outputs": [
    {
     "name": "stderr",
     "output_type": "stream",
     "text": [
      "                                                                                \r"
     ]
    },
    {
     "name": "stdout",
     "output_type": "stream",
     "text": [
      "+----------+\n",
      "|  language|\n",
      "+----------+\n",
      "|       SQL|\n",
      "|    Python|\n",
      "|         R|\n",
      "|      html|\n",
      "|javascript|\n",
      "|       php|\n",
      "|       css|\n",
      "+----------+\n",
      "\n"
     ]
    }
   ],
   "source": [
    "df.show()"
   ]
  },
  {
   "cell_type": "code",
   "execution_count": 6,
   "id": "ff2d635c",
   "metadata": {},
   "outputs": [
    {
     "name": "stdout",
     "output_type": "stream",
     "text": [
      "root\n",
      " |-- language: string (nullable = true)\n",
      "\n"
     ]
    }
   ],
   "source": [
    "df.printSchema()"
   ]
  },
  {
   "cell_type": "code",
   "execution_count": 7,
   "id": "14cf4fcb",
   "metadata": {},
   "outputs": [
    {
     "data": {
      "text/plain": [
       "(7, 1)"
      ]
     },
     "execution_count": 7,
     "metadata": {},
     "output_type": "execute_result"
    }
   ],
   "source": [
    "df.count(),len(df.columns)"
   ]
  },
  {
   "cell_type": "code",
   "execution_count": 8,
   "id": "4b6f905d",
   "metadata": {},
   "outputs": [
    {
     "name": "stdout",
     "output_type": "stream",
     "text": [
      "+----------+\n",
      "|  language|\n",
      "+----------+\n",
      "|       SQL|\n",
      "|    Python|\n",
      "|         R|\n",
      "|      html|\n",
      "|javascript|\n",
      "+----------+\n",
      "only showing top 5 rows\n",
      "\n"
     ]
    }
   ],
   "source": [
    "df.show(5)"
   ]
  },
  {
   "cell_type": "markdown",
   "id": "14efa164",
   "metadata": {},
   "source": [
    "# Question 2 MPG dataset....let's do this!"
   ]
  },
  {
   "cell_type": "code",
   "execution_count": 9,
   "id": "275e5a4e",
   "metadata": {},
   "outputs": [],
   "source": [
    "mpg1 = data('mpg')"
   ]
  },
  {
   "cell_type": "code",
   "execution_count": 10,
   "id": "10fd9efc",
   "metadata": {},
   "outputs": [],
   "source": [
    "df = pd.DataFrame(mpg1)"
   ]
  },
  {
   "cell_type": "code",
   "execution_count": 11,
   "id": "bc7ccd99",
   "metadata": {},
   "outputs": [],
   "source": [
    "mpg = spark.createDataFrame(mpg1)"
   ]
  },
  {
   "cell_type": "code",
   "execution_count": 12,
   "id": "f20342c2",
   "metadata": {},
   "outputs": [
    {
     "name": "stderr",
     "output_type": "stream",
     "text": [
      "23/05/19 10:11:00 WARN package: Truncated the string representation of a plan since it was too large. This behavior can be adjusted by setting 'spark.sql.debug.maxToStringFields'.\n",
      "[Stage 11:>                                                         (0 + 1) / 1]\r"
     ]
    },
    {
     "name": "stdout",
     "output_type": "stream",
     "text": [
      "+-------+------------+-----------------+------------------+-----------------+-----------------+----------+---+------------------+-----------------+----+-------+\n",
      "|summary|manufacturer|            model|             displ|             year|              cyl|     trans|drv|               cty|              hwy|  fl|  class|\n",
      "+-------+------------+-----------------+------------------+-----------------+-----------------+----------+---+------------------+-----------------+----+-------+\n",
      "|  count|         234|              234|               234|              234|              234|       234|234|               234|              234| 234|    234|\n",
      "|   mean|        null|             null| 3.471794871794872|           2003.5|5.888888888888889|      null|4.0|16.858974358974358|23.44017094017094|null|   null|\n",
      "| stddev|        null|             null|1.2919590310839348|4.509646313320436|1.611534484684289|      null|0.0| 4.255945678889394|5.954643441166448|null|   null|\n",
      "|    min|        audi|      4runner 4wd|               1.6|             1999|                4|  auto(av)|  4|                 9|               12|   c|2seater|\n",
      "|    max|  volkswagen|toyota tacoma 4wd|               7.0|             2008|                8|manual(m6)|  r|                35|               44|   r|    suv|\n",
      "+-------+------------+-----------------+------------------+-----------------+-----------------+----------+---+------------------+-----------------+----+-------+\n",
      "\n"
     ]
    },
    {
     "name": "stderr",
     "output_type": "stream",
     "text": [
      "\r",
      "                                                                                \r"
     ]
    }
   ],
   "source": [
    "mpg.describe().show()"
   ]
  },
  {
   "cell_type": "code",
   "execution_count": 13,
   "id": "af6ce12c",
   "metadata": {
    "scrolled": true
   },
   "outputs": [
    {
     "data": {
      "text/plain": [
       "234"
      ]
     },
     "execution_count": 13,
     "metadata": {},
     "output_type": "execute_result"
    }
   ],
   "source": [
    "mpg.count()"
   ]
  },
  {
   "cell_type": "code",
   "execution_count": 14,
   "id": "9484fa46",
   "metadata": {},
   "outputs": [
    {
     "name": "stdout",
     "output_type": "stream",
     "text": [
      "+------------+-----+-----+----+---+----------+---+---+---+---+-------+\n",
      "|manufacturer|model|displ|year|cyl|     trans|drv|cty|hwy| fl|  class|\n",
      "+------------+-----+-----+----+---+----------+---+---+---+---+-------+\n",
      "|        audi|   a4|  1.8|1999|  4|  auto(l5)|  f| 18| 29|  p|compact|\n",
      "|        audi|   a4|  1.8|1999|  4|manual(m5)|  f| 21| 29|  p|compact|\n",
      "|        audi|   a4|  2.0|2008|  4|manual(m6)|  f| 20| 31|  p|compact|\n",
      "|        audi|   a4|  2.0|2008|  4|  auto(av)|  f| 21| 30|  p|compact|\n",
      "|        audi|   a4|  2.8|1999|  6|  auto(l5)|  f| 16| 26|  p|compact|\n",
      "+------------+-----+-----+----+---+----------+---+---+---+---+-------+\n",
      "only showing top 5 rows\n",
      "\n"
     ]
    }
   ],
   "source": [
    "mpg.show(5)"
   ]
  },
  {
   "cell_type": "code",
   "execution_count": 15,
   "id": "3cc6f442",
   "metadata": {},
   "outputs": [
    {
     "data": {
      "text/plain": [
       "['manufacturer',\n",
       " 'model',\n",
       " 'displ',\n",
       " 'year',\n",
       " 'cyl',\n",
       " 'trans',\n",
       " 'drv',\n",
       " 'cty',\n",
       " 'hwy',\n",
       " 'fl',\n",
       " 'class']"
      ]
     },
     "execution_count": 15,
     "metadata": {},
     "output_type": "execute_result"
    }
   ],
   "source": [
    "mpg.columns"
   ]
  },
  {
   "cell_type": "code",
   "execution_count": 16,
   "id": "5217881c",
   "metadata": {},
   "outputs": [
    {
     "name": "stdout",
     "output_type": "stream",
     "text": [
      "+----------------------------------------+\n",
      "|summary                                 |\n",
      "+----------------------------------------+\n",
      "|The 1999 audi a4 has a 4 cylinder engine|\n",
      "|The 1999 audi a4 has a 4 cylinder engine|\n",
      "|The 2008 audi a4 has a 4 cylinder engine|\n",
      "|The 2008 audi a4 has a 4 cylinder engine|\n",
      "|The 1999 audi a4 has a 6 cylinder engine|\n",
      "+----------------------------------------+\n",
      "only showing top 5 rows\n",
      "\n"
     ]
    }
   ],
   "source": [
    "mpg.select(\n",
    "    F.concat(F.lit('The '),F.col('year'),F.lit(' '),F.col('manufacturer'),F.lit(' '),F.col('model'),\n",
    "             F.lit(' has a '),F.col('cyl'), F.lit(' cylinder engine')).alias('summary')\n",
    ").show(5,truncate=False)"
   ]
  },
  {
   "cell_type": "code",
   "execution_count": 17,
   "id": "379d3495",
   "metadata": {},
   "outputs": [
    {
     "data": {
      "text/plain": [
       "array(['auto(l5)', 'manual(m5)', 'manual(m6)', 'auto(av)', 'auto(s6)',\n",
       "       'auto(l4)', 'auto(l3)', 'auto(l6)', 'auto(s5)', 'auto(s4)'],\n",
       "      dtype=object)"
      ]
     },
     "execution_count": 17,
     "metadata": {},
     "output_type": "execute_result"
    }
   ],
   "source": [
    "df.trans.unique()"
   ]
  },
  {
   "cell_type": "code",
   "execution_count": 18,
   "id": "ef002631",
   "metadata": {},
   "outputs": [],
   "source": [
    "df_trans = pd.DataFrame(df.trans.unique())"
   ]
  },
  {
   "cell_type": "code",
   "execution_count": 19,
   "id": "fdb2cd22",
   "metadata": {},
   "outputs": [
    {
     "data": {
      "text/html": [
       "<div>\n",
       "<style scoped>\n",
       "    .dataframe tbody tr th:only-of-type {\n",
       "        vertical-align: middle;\n",
       "    }\n",
       "\n",
       "    .dataframe tbody tr th {\n",
       "        vertical-align: top;\n",
       "    }\n",
       "\n",
       "    .dataframe thead th {\n",
       "        text-align: right;\n",
       "    }\n",
       "</style>\n",
       "<table border=\"1\" class=\"dataframe\">\n",
       "  <thead>\n",
       "    <tr style=\"text-align: right;\">\n",
       "      <th></th>\n",
       "      <th>0</th>\n",
       "    </tr>\n",
       "  </thead>\n",
       "  <tbody>\n",
       "    <tr>\n",
       "      <th>0</th>\n",
       "      <td>auto(l5)</td>\n",
       "    </tr>\n",
       "    <tr>\n",
       "      <th>1</th>\n",
       "      <td>manual(m5)</td>\n",
       "    </tr>\n",
       "    <tr>\n",
       "      <th>2</th>\n",
       "      <td>manual(m6)</td>\n",
       "    </tr>\n",
       "    <tr>\n",
       "      <th>3</th>\n",
       "      <td>auto(av)</td>\n",
       "    </tr>\n",
       "    <tr>\n",
       "      <th>4</th>\n",
       "      <td>auto(s6)</td>\n",
       "    </tr>\n",
       "    <tr>\n",
       "      <th>5</th>\n",
       "      <td>auto(l4)</td>\n",
       "    </tr>\n",
       "    <tr>\n",
       "      <th>6</th>\n",
       "      <td>auto(l3)</td>\n",
       "    </tr>\n",
       "    <tr>\n",
       "      <th>7</th>\n",
       "      <td>auto(l6)</td>\n",
       "    </tr>\n",
       "    <tr>\n",
       "      <th>8</th>\n",
       "      <td>auto(s5)</td>\n",
       "    </tr>\n",
       "    <tr>\n",
       "      <th>9</th>\n",
       "      <td>auto(s4)</td>\n",
       "    </tr>\n",
       "  </tbody>\n",
       "</table>\n",
       "</div>"
      ],
      "text/plain": [
       "            0\n",
       "0    auto(l5)\n",
       "1  manual(m5)\n",
       "2  manual(m6)\n",
       "3    auto(av)\n",
       "4    auto(s6)\n",
       "5    auto(l4)\n",
       "6    auto(l3)\n",
       "7    auto(l6)\n",
       "8    auto(s5)\n",
       "9    auto(s4)"
      ]
     },
     "execution_count": 19,
     "metadata": {},
     "output_type": "execute_result"
    }
   ],
   "source": [
    "df_trans"
   ]
  },
  {
   "cell_type": "code",
   "execution_count": 20,
   "id": "fdd48349",
   "metadata": {},
   "outputs": [
    {
     "name": "stdout",
     "output_type": "stream",
     "text": [
      "+----------+---------+\n",
      "|     trans|trans_cat|\n",
      "+----------+---------+\n",
      "|  auto(l5)|     AUTO|\n",
      "|manual(m5)|      MAN|\n",
      "|manual(m6)|      MAN|\n",
      "|  auto(av)|     AUTO|\n",
      "|  auto(l5)|     AUTO|\n",
      "+----------+---------+\n",
      "only showing top 5 rows\n",
      "\n"
     ]
    }
   ],
   "source": [
    "manual = ['manual(m5)','manual(m6)']\n",
    "mpg.select(\n",
    "    mpg.trans,\n",
    "    F.when((mpg.trans == 'manual(m5)')|(mpg.trans == 'manual(m6)'), 'MAN').\\\n",
    "    otherwise('AUTO').alias('trans_cat')\n",
    ").show(5)"
   ]
  },
  {
   "cell_type": "markdown",
   "id": "5e0c92b9",
   "metadata": {},
   "source": [
    "# Question 3 TIPS dataset"
   ]
  },
  {
   "cell_type": "code",
   "execution_count": 21,
   "id": "e5132a3a",
   "metadata": {},
   "outputs": [],
   "source": [
    "tips = data('tips')"
   ]
  },
  {
   "cell_type": "code",
   "execution_count": 22,
   "id": "ba4aa725",
   "metadata": {},
   "outputs": [],
   "source": [
    "df = pd.DataFrame(tips)"
   ]
  },
  {
   "cell_type": "code",
   "execution_count": 23,
   "id": "c158590d",
   "metadata": {},
   "outputs": [],
   "source": [
    "tips = spark.createDataFrame(tips)"
   ]
  },
  {
   "cell_type": "code",
   "execution_count": 24,
   "id": "d00f599a",
   "metadata": {},
   "outputs": [
    {
     "name": "stderr",
     "output_type": "stream",
     "text": [
      "[Stage 18:=======>                                                  (1 + 7) / 8]\r"
     ]
    },
    {
     "name": "stdout",
     "output_type": "stream",
     "text": [
      "+-------+------------------+------------------+------+------+----+------+------------------+\n",
      "|summary|        total_bill|               tip|   sex|smoker| day|  time|              size|\n",
      "+-------+------------------+------------------+------+------+----+------+------------------+\n",
      "|  count|               244|               244|   244|   244| 244|   244|               244|\n",
      "|   mean|19.785942622950813|2.9982786885245907|  null|  null|null|  null| 2.569672131147541|\n",
      "| stddev| 8.902411954856856| 1.383638189001182|  null|  null|null|  null|0.9510998047322344|\n",
      "|    min|              3.07|               1.0|Female|    No| Fri|Dinner|                 1|\n",
      "|    max|             50.81|              10.0|  Male|   Yes|Thur| Lunch|                 6|\n",
      "+-------+------------------+------------------+------+------+----+------+------------------+\n",
      "\n"
     ]
    },
    {
     "name": "stderr",
     "output_type": "stream",
     "text": [
      "\r",
      "                                                                                \r"
     ]
    }
   ],
   "source": [
    "tips.describe().show()"
   ]
  },
  {
   "cell_type": "code",
   "execution_count": 25,
   "id": "8139b361",
   "metadata": {
    "scrolled": true
   },
   "outputs": [
    {
     "data": {
      "text/plain": [
       "244"
      ]
     },
     "execution_count": 25,
     "metadata": {},
     "output_type": "execute_result"
    }
   ],
   "source": [
    "tips.count()"
   ]
  },
  {
   "cell_type": "code",
   "execution_count": 26,
   "id": "2728db2f",
   "metadata": {},
   "outputs": [
    {
     "name": "stdout",
     "output_type": "stream",
     "text": [
      "+----------+----+------+------+---+------+----+\n",
      "|total_bill| tip|   sex|smoker|day|  time|size|\n",
      "+----------+----+------+------+---+------+----+\n",
      "|     16.99|1.01|Female|    No|Sun|Dinner|   2|\n",
      "|     10.34|1.66|  Male|    No|Sun|Dinner|   3|\n",
      "|     21.01| 3.5|  Male|    No|Sun|Dinner|   3|\n",
      "|     23.68|3.31|  Male|    No|Sun|Dinner|   2|\n",
      "|     24.59|3.61|Female|    No|Sun|Dinner|   4|\n",
      "+----------+----+------+------+---+------+----+\n",
      "only showing top 5 rows\n",
      "\n"
     ]
    }
   ],
   "source": [
    "tips.show(5)"
   ]
  },
  {
   "cell_type": "code",
   "execution_count": 27,
   "id": "6cccc64f",
   "metadata": {},
   "outputs": [
    {
     "data": {
      "text/plain": [
       "['total_bill', 'tip', 'sex', 'smoker', 'day', 'time', 'size']"
      ]
     },
     "execution_count": 27,
     "metadata": {},
     "output_type": "execute_result"
    }
   ],
   "source": [
    "tips.columns"
   ]
  },
  {
   "cell_type": "code",
   "execution_count": 28,
   "id": "3b4bd064",
   "metadata": {},
   "outputs": [
    {
     "name": "stdout",
     "output_type": "stream",
     "text": [
      "+------+-------------+\n",
      "|smoker|count(smoker)|\n",
      "+------+-------------+\n",
      "|    No|          151|\n",
      "|   Yes|           93|\n",
      "+------+-------------+\n",
      "\n"
     ]
    }
   ],
   "source": [
    "tips.groupby(tips.smoker).agg(F.count(tips.smoker)).show()"
   ]
  },
  {
   "cell_type": "code",
   "execution_count": 29,
   "id": "0d4b7359",
   "metadata": {},
   "outputs": [
    {
     "name": "stdout",
     "output_type": "stream",
     "text": [
      "+------+-----+\n",
      "|smoker|count|\n",
      "+------+-----+\n",
      "|    No|  151|\n",
      "|   Yes|   93|\n",
      "+------+-----+\n",
      "\n"
     ]
    }
   ],
   "source": [
    "tips.groupby(tips.smoker).agg(F.count(tips.smoker).alias('count')).show()"
   ]
  },
  {
   "cell_type": "code",
   "execution_count": 30,
   "id": "ff38f7fe",
   "metadata": {},
   "outputs": [
    {
     "name": "stdout",
     "output_type": "stream",
     "text": [
      "+------+-----+-------------------+\n",
      "|smoker|count|         percentage|\n",
      "+------+-----+-------------------+\n",
      "|    No|  151| 0.6188524590163934|\n",
      "|   Yes|   93|0.38114754098360654|\n",
      "+------+-----+-------------------+\n",
      "\n"
     ]
    }
   ],
   "source": [
    "tips.groupby('smoker').agg(\n",
    "    (F.count('smoker')).alias('count'),\n",
    "    (F.count('smoker') / tips.count()).alias('percentage')\n",
    ").show()"
   ]
  },
  {
   "cell_type": "code",
   "execution_count": null,
   "id": "00ea67b8",
   "metadata": {},
   "outputs": [],
   "source": []
  },
  {
   "cell_type": "code",
   "execution_count": 31,
   "id": "ccfd5528",
   "metadata": {},
   "outputs": [
    {
     "name": "stdout",
     "output_type": "stream",
     "text": [
      "+----------+----+------+------+---+------+----+\n",
      "|total_bill| tip|   sex|smoker|day|  time|size|\n",
      "+----------+----+------+------+---+------+----+\n",
      "|     16.99|1.01|Female|    No|Sun|Dinner|   2|\n",
      "|     10.34|1.66|  Male|    No|Sun|Dinner|   3|\n",
      "|     21.01| 3.5|  Male|    No|Sun|Dinner|   3|\n",
      "|     23.68|3.31|  Male|    No|Sun|Dinner|   2|\n",
      "|     24.59|3.61|Female|    No|Sun|Dinner|   4|\n",
      "+----------+----+------+------+---+------+----+\n",
      "only showing top 5 rows\n",
      "\n"
     ]
    }
   ],
   "source": [
    "tips.show(5)"
   ]
  },
  {
   "cell_type": "code",
   "execution_count": 32,
   "id": "cd0b7120",
   "metadata": {},
   "outputs": [
    {
     "name": "stdout",
     "output_type": "stream",
     "text": [
      "+----------+----+------+------+---+------+----+----+\n",
      "|total_bill| tip|   sex|smoker|day|  time|size| pct|\n",
      "+----------+----+------+------+---+------+----+----+\n",
      "|     16.99|1.01|Female|    No|Sun|Dinner|   2|0.06|\n",
      "|     10.34|1.66|  Male|    No|Sun|Dinner|   3|0.16|\n",
      "|     21.01| 3.5|  Male|    No|Sun|Dinner|   3|0.17|\n",
      "|     23.68|3.31|  Male|    No|Sun|Dinner|   2|0.14|\n",
      "|     24.59|3.61|Female|    No|Sun|Dinner|   4|0.15|\n",
      "+----------+----+------+------+---+------+----+----+\n",
      "only showing top 5 rows\n",
      "\n"
     ]
    }
   ],
   "source": [
    "tips.select('*',\n",
    "           F.round((tips.tip / tips.total_bill),2).alias('pct')).show(5)"
   ]
  },
  {
   "cell_type": "code",
   "execution_count": 33,
   "id": "7f145d76",
   "metadata": {},
   "outputs": [
    {
     "name": "stdout",
     "output_type": "stream",
     "text": [
      "+----------+----+------+------+---+------+----+----+\n",
      "|total_bill| tip|   sex|smoker|day|  time|size| pct|\n",
      "+----------+----+------+------+---+------+----+----+\n",
      "|     16.99|1.01|Female|    No|Sun|Dinner|   2|0.06|\n",
      "|     10.34|1.66|  Male|    No|Sun|Dinner|   3|0.16|\n",
      "|     21.01| 3.5|  Male|    No|Sun|Dinner|   3|0.17|\n",
      "|     23.68|3.31|  Male|    No|Sun|Dinner|   2|0.14|\n",
      "|     24.59|3.61|Female|    No|Sun|Dinner|   4|0.15|\n",
      "+----------+----+------+------+---+------+----+----+\n",
      "only showing top 5 rows\n",
      "\n"
     ]
    }
   ],
   "source": [
    "tips.select('*',\n",
    "           F.round((tips.tip / tips.total_bill),2).alias('pct')).show(5)"
   ]
  },
  {
   "cell_type": "code",
   "execution_count": null,
   "id": "5027b459",
   "metadata": {},
   "outputs": [],
   "source": []
  },
  {
   "cell_type": "code",
   "execution_count": 38,
   "id": "d13c3fa3",
   "metadata": {},
   "outputs": [
    {
     "name": "stdout",
     "output_type": "stream",
     "text": [
      "+------+------+-----+\n",
      "|   sex|smoker|  pct|\n",
      "+------+------+-----+\n",
      "|  Male|    No|0.161|\n",
      "|Female|    No|0.157|\n",
      "|  Male|   Yes|0.153|\n",
      "|Female|   Yes|0.182|\n",
      "+------+------+-----+\n",
      "\n"
     ]
    }
   ],
   "source": [
    "tips.groupby(tips.sex,tips.smoker).agg(F.round(F.avg(tips.tip / tips.total_bill),3).alias('pct')).show()"
   ]
  },
  {
   "cell_type": "markdown",
   "id": "1bea95f9",
   "metadata": {},
   "source": [
    "# Question 4 SEATTLE WX dataset"
   ]
  },
  {
   "cell_type": "code",
   "execution_count": 40,
   "id": "bdb9c9a6",
   "metadata": {},
   "outputs": [
    {
     "name": "stdout",
     "output_type": "stream",
     "text": [
      "+----------+-------------+--------+--------+----+-------+\n",
      "|      date|precipitation|temp_max|temp_min|wind|weather|\n",
      "+----------+-------------+--------+--------+----+-------+\n",
      "|2012-01-01|          0.0|    12.8|     5.0| 4.7|drizzle|\n",
      "|2012-01-02|         10.9|    10.6|     2.8| 4.5|   rain|\n",
      "|2012-01-03|          0.8|    11.7|     7.2| 2.3|   rain|\n",
      "|2012-01-04|         20.3|    12.2|     5.6| 4.7|   rain|\n",
      "|2012-01-05|          1.3|     8.9|     2.8| 6.1|   rain|\n",
      "|2012-01-06|          2.5|     4.4|     2.2| 2.2|   rain|\n",
      "+----------+-------------+--------+--------+----+-------+\n",
      "only showing top 6 rows\n",
      "\n"
     ]
    }
   ],
   "source": [
    "weather = data.seattle_weather().assign(date=lambda df: df.date.astype(str))\n",
    "weather = spark.createDataFrame(weather)\n",
    "weather.show(6)"
   ]
  },
  {
   "cell_type": "code",
   "execution_count": 42,
   "id": "72bd893e",
   "metadata": {},
   "outputs": [
    {
     "name": "stdout",
     "output_type": "stream",
     "text": [
      "root\n",
      " |-- date: string (nullable = true)\n",
      " |-- precipitation: double (nullable = true)\n",
      " |-- temp_max: double (nullable = true)\n",
      " |-- temp_min: double (nullable = true)\n",
      " |-- wind: double (nullable = true)\n",
      " |-- weather: string (nullable = true)\n",
      "\n"
     ]
    }
   ],
   "source": [
    "weather.printSchema()"
   ]
  },
  {
   "cell_type": "code",
   "execution_count": 41,
   "id": "410d7540",
   "metadata": {},
   "outputs": [
    {
     "name": "stderr",
     "output_type": "stream",
     "text": [
      "\r",
      "[Stage 50:>                                                         (0 + 8) / 8]\r"
     ]
    },
    {
     "name": "stdout",
     "output_type": "stream",
     "text": [
      "+-------+----------+-----------------+------------------+-----------------+------------------+-------+\n",
      "|summary|      date|    precipitation|          temp_max|         temp_min|              wind|weather|\n",
      "+-------+----------+-----------------+------------------+-----------------+------------------+-------+\n",
      "|  count|      1461|             1461|              1461|             1461|              1461|   1461|\n",
      "|   mean|      null| 3.02943189596167|16.439082819986314|8.234770704996578|3.2411362080766604|   null|\n",
      "| stddev|      null|6.680194322314738| 7.349758097360176|5.023004179961266|1.4378250588746198|   null|\n",
      "|    min|2012-01-01|              0.0|              -1.6|             -7.1|               0.4|drizzle|\n",
      "|    max|2015-12-31|             55.9|              35.6|             18.3|               9.5|    sun|\n",
      "+-------+----------+-----------------+------------------+-----------------+------------------+-------+\n",
      "\n"
     ]
    },
    {
     "name": "stderr",
     "output_type": "stream",
     "text": [
      "\r",
      "                                                                                \r"
     ]
    }
   ],
   "source": [
    "weather.describe().show()"
   ]
  },
  {
   "cell_type": "code",
   "execution_count": 43,
   "id": "3c3c6520",
   "metadata": {
    "scrolled": true
   },
   "outputs": [
    {
     "data": {
      "text/plain": [
       "1461"
      ]
     },
     "execution_count": 43,
     "metadata": {},
     "output_type": "execute_result"
    }
   ],
   "source": [
    "weather.count()"
   ]
  },
  {
   "cell_type": "code",
   "execution_count": 44,
   "id": "27fdffe5",
   "metadata": {},
   "outputs": [
    {
     "name": "stdout",
     "output_type": "stream",
     "text": [
      "+----------+-------------+--------+--------+----+-------+\n",
      "|      date|precipitation|temp_max|temp_min|wind|weather|\n",
      "+----------+-------------+--------+--------+----+-------+\n",
      "|2012-01-01|          0.0|    12.8|     5.0| 4.7|drizzle|\n",
      "|2012-01-02|         10.9|    10.6|     2.8| 4.5|   rain|\n",
      "|2012-01-03|          0.8|    11.7|     7.2| 2.3|   rain|\n",
      "|2012-01-04|         20.3|    12.2|     5.6| 4.7|   rain|\n",
      "|2012-01-05|          1.3|     8.9|     2.8| 6.1|   rain|\n",
      "+----------+-------------+--------+--------+----+-------+\n",
      "only showing top 5 rows\n",
      "\n"
     ]
    }
   ],
   "source": [
    "weather.show(5)"
   ]
  },
  {
   "cell_type": "code",
   "execution_count": 45,
   "id": "cd1bdff2",
   "metadata": {},
   "outputs": [
    {
     "name": "stdout",
     "output_type": "stream",
     "text": [
      "+----------+-------------+--------+--------+----+-------+-----+\n",
      "|      date|precipitation|temp_max|temp_min|wind|weather|F_max|\n",
      "+----------+-------------+--------+--------+----+-------+-----+\n",
      "|2012-01-01|          0.0|    12.8|     5.0| 4.7|drizzle| 55.0|\n",
      "|2012-01-02|         10.9|    10.6|     2.8| 4.5|   rain| 51.1|\n",
      "|2012-01-03|          0.8|    11.7|     7.2| 2.3|   rain| 53.1|\n",
      "|2012-01-04|         20.3|    12.2|     5.6| 4.7|   rain| 54.0|\n",
      "|2012-01-05|          1.3|     8.9|     2.8| 6.1|   rain| 48.0|\n",
      "+----------+-------------+--------+--------+----+-------+-----+\n",
      "only showing top 5 rows\n",
      "\n"
     ]
    }
   ],
   "source": [
    "weather.select('*',\n",
    "           F.round((weather.temp_max * 1.8 + 32),1).alias('F_max')).show(5)"
   ]
  },
  {
   "cell_type": "code",
   "execution_count": 46,
   "id": "f46c545f",
   "metadata": {},
   "outputs": [
    {
     "name": "stdout",
     "output_type": "stream",
     "text": [
      "+----------+-------------+--------+--------+----+-------+-----+-----+\n",
      "|      date|precipitation|temp_max|temp_min|wind|weather|F_max|F_min|\n",
      "+----------+-------------+--------+--------+----+-------+-----+-----+\n",
      "|2012-01-01|          0.0|    12.8|     5.0| 4.7|drizzle| 55.0| 41.0|\n",
      "|2012-01-02|         10.9|    10.6|     2.8| 4.5|   rain| 51.1| 37.0|\n",
      "|2012-01-03|          0.8|    11.7|     7.2| 2.3|   rain| 53.1| 45.0|\n",
      "|2012-01-04|         20.3|    12.2|     5.6| 4.7|   rain| 54.0| 42.1|\n",
      "|2012-01-05|          1.3|     8.9|     2.8| 6.1|   rain| 48.0| 37.0|\n",
      "+----------+-------------+--------+--------+----+-------+-----+-----+\n",
      "only showing top 5 rows\n",
      "\n"
     ]
    }
   ],
   "source": [
    "weather.select('*',\n",
    "           F.round((weather.temp_max * 1.8 + 32),1).alias('F_max'),\n",
    "              F.round((weather.temp_min * 1.8 + 32),1).alias('F_min')).show(5)"
   ]
  },
  {
   "cell_type": "code",
   "execution_count": 49,
   "id": "754b79f3",
   "metadata": {},
   "outputs": [
    {
     "name": "stdout",
     "output_type": "stream",
     "text": [
      "+----------+-------------+--------+--------+----+-------+----------+-----+-----+\n",
      "|      date|precipitation|temp_max|temp_min|wind|weather|         d|F_max|F_min|\n",
      "+----------+-------------+--------+--------+----+-------+----------+-----+-----+\n",
      "|2012-01-01|          0.0|    12.8|     5.0| 4.7|drizzle|2012-01-01| 55.0| 41.0|\n",
      "|2012-01-02|         10.9|    10.6|     2.8| 4.5|   rain|2012-01-02| 51.1| 37.0|\n",
      "|2012-01-03|          0.8|    11.7|     7.2| 2.3|   rain|2012-01-03| 53.1| 45.0|\n",
      "|2012-01-04|         20.3|    12.2|     5.6| 4.7|   rain|2012-01-04| 54.0| 42.1|\n",
      "|2012-01-05|          1.3|     8.9|     2.8| 6.1|   rain|2012-01-05| 48.0| 37.0|\n",
      "+----------+-------------+--------+--------+----+-------+----------+-----+-----+\n",
      "only showing top 5 rows\n",
      "\n"
     ]
    }
   ],
   "source": [
    "weather.select('*',\n",
    "               weather.date.cast('date').alias('d'),\n",
    "           F.round((weather.temp_max * 1.8 + 32),1).alias('F_max'),\n",
    "              F.round((weather.temp_min * 1.8 + 32),1).alias('F_min')).show(5)"
   ]
  },
  {
   "cell_type": "code",
   "execution_count": 127,
   "id": "365724fe",
   "metadata": {},
   "outputs": [
    {
     "name": "stderr",
     "output_type": "stream",
     "text": [
      "\r",
      "[Stage 181:>                                                        (0 + 8) / 8]\r"
     ]
    },
    {
     "name": "stdout",
     "output_type": "stream",
     "text": [
      "+-----+--------------+\n",
      "|month|daily_avg_rain|\n",
      "+-----+--------------+\n",
      "|    7|          0.39|\n",
      "|    6|          1.11|\n",
      "|    8|          1.32|\n",
      "|    5|          1.67|\n",
      "|    9|          1.96|\n",
      "|    4|          3.13|\n",
      "|    2|          3.73|\n",
      "|    1|          3.76|\n",
      "|   10|          4.06|\n",
      "|    3|          4.89|\n",
      "|   12|          5.02|\n",
      "|   11|          5.35|\n",
      "+-----+--------------+\n",
      "\n"
     ]
    },
    {
     "name": "stderr",
     "output_type": "stream",
     "text": [
      "\r",
      "                                                                                \r"
     ]
    }
   ],
   "source": [
    "weather.withColumn('month', F.month(F.col('date'))).groupby(\n",
    "    'month').agg(\n",
    "    F.round((F.sum(weather.precipitation))/F.count(weather.date), 2).alias('daily_avg_rain')).sort('daily_avg_rain').show()"
   ]
  },
  {
   "cell_type": "code",
   "execution_count": 68,
   "id": "50054bbf",
   "metadata": {},
   "outputs": [
    {
     "name": "stdout",
     "output_type": "stream",
     "text": [
      "+----+--------------+\n",
      "|year|daily_avg_wind|\n",
      "+----+--------------+\n",
      "|2012|           3.4|\n",
      "|2013|          3.02|\n",
      "|2014|          3.39|\n",
      "|2015|          3.16|\n",
      "+----+--------------+\n",
      "\n"
     ]
    }
   ],
   "source": [
    "weather.withColumn('year', F.year(F.col('date'))).groupby(\n",
    "    'year').agg(\n",
    "    F.round((F.sum(weather.wind))/F.count(weather.date), 2).alias('daily_avg_wind')).sort('year').show()"
   ]
  },
  {
   "cell_type": "code",
   "execution_count": 68,
   "id": "5125259d",
   "metadata": {},
   "outputs": [
    {
     "name": "stdout",
     "output_type": "stream",
     "text": [
      "+----+--------------+\n",
      "|year|daily_avg_wind|\n",
      "+----+--------------+\n",
      "|2012|           3.4|\n",
      "|2013|          3.02|\n",
      "|2014|          3.39|\n",
      "|2015|          3.16|\n",
      "+----+--------------+\n",
      "\n"
     ]
    }
   ],
   "source": [
    "weather.withColumn('year', F.year(F.col('date'))).groupby(\n",
    "    'year').agg(\n",
    "    F.round((F.sum(weather.wind))/F.count(weather.date), 2).alias('daily_avg_wind')).sort('year').show()"
   ]
  },
  {
   "cell_type": "code",
   "execution_count": 86,
   "id": "6b8512e2",
   "metadata": {},
   "outputs": [
    {
     "name": "stderr",
     "output_type": "stream",
     "text": [
      "\r",
      "[Stage 112:=====================>                                   (3 + 5) / 8]\r"
     ]
    },
    {
     "name": "stdout",
     "output_type": "stream",
     "text": [
      "+-----+-------+-----+\n",
      "|month|weather|count|\n",
      "+-----+-------+-----+\n",
      "|    1|    fog|   38|\n",
      "|    1|   rain|   35|\n",
      "|    1|    sun|   33|\n",
      "|    1|drizzle|   10|\n",
      "|    1|   snow|    8|\n",
      "+-----+-------+-----+\n",
      "\n"
     ]
    },
    {
     "name": "stderr",
     "output_type": "stream",
     "text": [
      "\r",
      "                                                                                \r"
     ]
    }
   ],
   "source": [
    "weather.filter(F.month(F.col('date')) == 1).withColumn('month', F.month(F.col('date'))).groupby(\n",
    "    'month','weather').agg(\n",
    "    F.count(weather.weather).alias('count')).sort(F.count(weather.weather).desc()).show()"
   ]
  },
  {
   "cell_type": "code",
   "execution_count": 97,
   "id": "85033693",
   "metadata": {},
   "outputs": [
    {
     "name": "stderr",
     "output_type": "stream",
     "text": [
      "\r",
      "[Stage 142:>                                                        (0 + 8) / 8]\r"
     ]
    },
    {
     "name": "stdout",
     "output_type": "stream",
     "text": [
      "+-----+----+-------+--------------+-------------+\n",
      "|month|year|weather|daily_avg_high|daily_avg_low|\n",
      "+-----+----+-------+--------------+-------------+\n",
      "|    7|2013|    sun|          79.9|         57.2|\n",
      "|    7|2014|    sun|          80.8|         57.9|\n",
      "+-----+----+-------+--------------+-------------+\n",
      "\n"
     ]
    },
    {
     "name": "stderr",
     "output_type": "stream",
     "text": [
      "\r",
      "                                                                                \r"
     ]
    }
   ],
   "source": [
    "weather.filter((F.month(F.col('date')) == 7)&((F.year(F.col('date')) == 2013)|(F.year(F.col('date')) == 2014))&(F.col('weather')=='sun')).withColumn('month', F.month(F.col('date'))).withColumn('year', F.year(F.col('date'))).groupby(\n",
    "    'month','year','weather').agg(\n",
    "    F.round((F.avg(weather.temp_max*1.8+32)), 1).alias('daily_avg_high'),\n",
    "    F.round((F.avg(weather.temp_min*1.8+32)), 1).alias('daily_avg_low')).sort('month').show()"
   ]
  },
  {
   "cell_type": "code",
   "execution_count": 99,
   "id": "30849eab",
   "metadata": {},
   "outputs": [
    {
     "name": "stderr",
     "output_type": "stream",
     "text": [
      "\r",
      "[Stage 148:>                                                        (0 + 8) / 8]\r"
     ]
    },
    {
     "name": "stdout",
     "output_type": "stream",
     "text": [
      "+---+-------+-----+\n",
      "|  q|weather|count|\n",
      "+---+-------+-----+\n",
      "|  3|    sun|   64|\n",
      "|  3|    fog|   21|\n",
      "|  3|drizzle|    5|\n",
      "|  3|   rain|    2|\n",
      "+---+-------+-----+\n",
      "\n"
     ]
    },
    {
     "name": "stderr",
     "output_type": "stream",
     "text": [
      "\r",
      "                                                                                \r"
     ]
    }
   ],
   "source": [
    "weather.filter((F.quarter(F.col('date')) == 3)&(F.year(F.col('date')) == 2015)).withColumn('q', F.quarter(F.col('date'))).groupby(\n",
    "    'q','weather').agg(\n",
    "    F.count(weather.weather).alias('count')).sort(F.count(weather.weather).desc()).show()"
   ]
  },
  {
   "cell_type": "code",
   "execution_count": 128,
   "id": "f5f300be",
   "metadata": {
    "scrolled": true
   },
   "outputs": [
    {
     "name": "stderr",
     "output_type": "stream",
     "text": [
      "\r",
      "[Stage 184:>                                                        (0 + 8) / 8]\r"
     ]
    },
    {
     "name": "stdout",
     "output_type": "stream",
     "text": [
      "+----+-----+\n",
      "|year|count|\n",
      "+----+-----+\n",
      "|2012|  177|\n",
      "|2013|  152|\n",
      "|2014|  150|\n",
      "|2015|  144|\n",
      "+----+-----+\n",
      "\n"
     ]
    },
    {
     "name": "stderr",
     "output_type": "stream",
     "text": [
      "\r",
      "                                                                                \r"
     ]
    }
   ],
   "source": [
    "weather.filter(F.col('precipitation') > 0.0).withColumn('year', F.year(F.col('date'))).groupby('year').agg(\n",
    "    F.count(weather.precipitation).alias('count')).sort('year').show()"
   ]
  },
  {
   "cell_type": "code",
   "execution_count": null,
   "id": "ade05e07",
   "metadata": {},
   "outputs": [],
   "source": []
  },
  {
   "cell_type": "code",
   "execution_count": null,
   "id": "0b130300",
   "metadata": {},
   "outputs": [],
   "source": []
  },
  {
   "cell_type": "code",
   "execution_count": null,
   "id": "7a405567",
   "metadata": {},
   "outputs": [],
   "source": []
  },
  {
   "cell_type": "code",
   "execution_count": null,
   "id": "70024a69",
   "metadata": {},
   "outputs": [],
   "source": []
  },
  {
   "cell_type": "code",
   "execution_count": null,
   "id": "fed86f2d",
   "metadata": {},
   "outputs": [],
   "source": []
  },
  {
   "cell_type": "code",
   "execution_count": null,
   "id": "7f669216",
   "metadata": {},
   "outputs": [],
   "source": []
  },
  {
   "cell_type": "code",
   "execution_count": null,
   "id": "2aef4a43",
   "metadata": {},
   "outputs": [],
   "source": []
  }
 ],
 "metadata": {
  "kernelspec": {
   "display_name": "Python 3 (ipykernel)",
   "language": "python",
   "name": "python3"
  },
  "language_info": {
   "codemirror_mode": {
    "name": "ipython",
    "version": 3
   },
   "file_extension": ".py",
   "mimetype": "text/x-python",
   "name": "python",
   "nbconvert_exporter": "python",
   "pygments_lexer": "ipython3",
   "version": "3.9.13"
  }
 },
 "nbformat": 4,
 "nbformat_minor": 5
}
